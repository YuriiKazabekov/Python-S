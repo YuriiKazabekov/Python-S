{
 "cells": [
  {
   "cell_type": "code",
   "execution_count": null,
   "metadata": {},
   "outputs": [],
   "source": [
    "with open('lp.txt', 'r+') as lp:\n",
    "    data = lp.readlines()\n",
    "log = []\n",
    "pas = []\n",
    "new_dict ={}\n",
    "for i in data:\n",
    "    a, b= i.split()\n",
    "    #add log and pass in 2 lists\n",
    "    log.append(a)\n",
    "    pas.append(b)\n",
    "while True:\n",
    "    logg = input('Login \\n')\n",
    "    if logg in log:\n",
    "        index_for_pass = log.index(logg)\n",
    "        passs = input('Password \\n')\n",
    "        if passs == pas[index_for_pass]:\n",
    "            print('YES')\n",
    "            break\n",
    "        else:\n",
    "            print('NO')\n",
    "            break\n",
    "    else:\n",
    "        print('Try again')"
   ]
  },
  {
   "cell_type": "code",
   "execution_count": null,
   "metadata": {},
   "outputs": [],
   "source": [
    "with open('lp.txt', 'r+') as lp:\n",
    "    data = lp.readlines()\n",
    "log = []\n",
    "pas = []\n",
    "new_dict ={}\n",
    "for i in data:\n",
    "    a, b= i.split()\n",
    "    #add log and pass in dict\n",
    "    new_dict[a] = b\n",
    "while True:\n",
    "    logg = input('Login \\n')\n",
    "    if logg in log:\n",
    "        index_for_pass = log.index(logg)\n",
    "        passs = input('Password \\n')\n",
    "        if passs == pas[index_for_pass]:\n",
    "            print('YES')\n",
    "            break\n",
    "        else:\n",
    "            print('NO')\n",
    "            break\n",
    "    else:\n",
    "        print('Try again')"
   ]
  },
  {
   "cell_type": "code",
   "execution_count": null,
   "metadata": {},
   "outputs": [],
   "source": [
    "with open('lp.txt', 'r+') as lp:\n",
    "    data = lp.readlines()\n",
    "log = input('Login \\n')\n",
    "pas = input('Pass\\n')\n",
    "new_dict ={}\n",
    "for i in data:\n",
    "    a, b= i.split()\n",
    "    #add log and pass in dict\n",
    "    new_dict[a] = b\n",
    "print(new_dict)\n",
    "if log in new_dict:\n",
    "    new_dict = new_dict[log]\n",
    "    print(new_dict)\n",
    "else:\n",
    "    print(\"Элемент не найден\")"
   ]
  }
 ],
 "metadata": {
  "kernelspec": {
   "display_name": "Python 3",
   "language": "python",
   "name": "python3"
  },
  "language_info": {
   "codemirror_mode": {
    "name": "ipython",
    "version": 3
   },
   "file_extension": ".py",
   "mimetype": "text/x-python",
   "name": "python",
   "nbconvert_exporter": "python",
   "pygments_lexer": "ipython3",
   "version": "3.7.3"
  }
 },
 "nbformat": 4,
 "nbformat_minor": 2
}
