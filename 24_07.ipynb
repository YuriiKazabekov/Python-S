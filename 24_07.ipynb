{
 "cells": [
  {
   "cell_type": "markdown",
   "metadata": {},
   "source": [
    "•\tDevelop a program that reads a four-digit integer from the user and displays the sum of the digits in the number. For example, if the user enters 3141 then your program should display 3+1+4+1=9.\n",
    "•\tThe length of a month varies from 28 to 31 days. In this exercise you will create a program that reads the name of a month from the user as a string. Then your program should display the number of days in that month.\n"
   ]
  },
  {
   "cell_type": "code",
   "execution_count": 3,
   "metadata": {},
   "outputs": [
    {
     "name": "stdout",
     "output_type": "stream",
     "text": [
      "Введіть цифри \n",
      "12345\n",
      "15\n"
     ]
    }
   ],
   "source": [
    "l = input('Введіть цифри \\n')\n",
    "summ = 0\n",
    "for i in l:\n",
    "    summ = summ + int(i) \n",
    "print(summ)"
   ]
  },
  {
   "cell_type": "code",
   "execution_count": 2,
   "metadata": {},
   "outputs": [
    {
     "name": "stdout",
     "output_type": "stream",
     "text": [
      "Input name of month \n",
      "May\n"
     ]
    },
    {
     "data": {
      "text/plain": [
       "'31'"
      ]
     },
     "execution_count": 2,
     "metadata": {},
     "output_type": "execute_result"
    }
   ],
   "source": [
    "month = {'January':'31', 'February':'28', 'March':'31','April':'30','May':'31','June':'30','July':'31','August':'31','September':'30','October':'31','November':'30','December':'31'}\n",
    "key = input('Input name of month \\n')\n",
    "month.get(key)\n",
    "\n"
   ]
  },
  {
   "cell_type": "markdown",
   "metadata": {},
   "source": [
    "•\tНапишіть програму, що за введеним порядковим номером, назвою чи скороченою назвою виводить стрічку «Елемент {} під номером {}, позначається {}»"
   ]
  },
  {
   "cell_type": "code",
   "execution_count": 26,
   "metadata": {
    "scrolled": true
   },
   "outputs": [
    {
     "name": "stdout",
     "output_type": "stream",
     "text": [
      "Input something113\n",
      "Елемент Ununtrium під номером 113 позначається Uut\n"
     ]
    }
   ],
   "source": [
    "a = input('Input something')\n",
    "f = open('elements.txt')\n",
    "l_file = [line.strip() for line in f]\n",
    "i=0\n",
    "while i <118 :\n",
    "    l_string = l_file[i]\n",
    "    l_list = l_string.split(',')\n",
    "    for j in range(len(l_list)):\n",
    "        if a == l_list[j]:\n",
    "            print('Елемент '+l_list[2]+' під номером '+l_list[0]+' позначається '+l_list[1])\n",
    "    i = i+1"
   ]
  },
  {
   "cell_type": "markdown",
   "metadata": {},
   "source": [
    "•\tСтворіть файл із календарем. Використайте бібліотеку calendar ( розгляньте методи LocaleTextCalendar та LocaleHTMLCalendar ). Ознайомтеся із іншими методами даної бібліотеки"
   ]
  },
  {
   "cell_type": "code",
   "execution_count": 29,
   "metadata": {},
   "outputs": [
    {
     "name": "stdout",
     "output_type": "stream",
     "text": [
      "     July 2019\n",
      "Su Mo Tu We Th Fr Sa\n",
      "    1  2  3  4  5  6\n",
      " 7  8  9 10 11 12 13\n",
      "14 15 16 17 18 19 20\n",
      "21 22 23 24 25 26 27\n",
      "28 29 30 31\n",
      "\n",
      "<table border=\"0\" cellpadding=\"0\" cellspacing=\"0\" class=\"month\">\n",
      "<tr><th colspan=\"7\" class=\"month\">July 2019</th></tr>\n",
      "<tr><th class=\"sun\">Sun</th><th class=\"mon\">Mon</th><th class=\"tue\">Tue</th><th class=\"wed\">Wed</th><th class=\"thu\">Thu</th><th class=\"fri\">Fri</th><th class=\"sat\">Sat</th></tr>\n",
      "<tr><td class=\"noday\">&nbsp;</td><td class=\"mon\">1</td><td class=\"tue\">2</td><td class=\"wed\">3</td><td class=\"thu\">4</td><td class=\"fri\">5</td><td class=\"sat\">6</td></tr>\n",
      "<tr><td class=\"sun\">7</td><td class=\"mon\">8</td><td class=\"tue\">9</td><td class=\"wed\">10</td><td class=\"thu\">11</td><td class=\"fri\">12</td><td class=\"sat\">13</td></tr>\n",
      "<tr><td class=\"sun\">14</td><td class=\"mon\">15</td><td class=\"tue\">16</td><td class=\"wed\">17</td><td class=\"thu\">18</td><td class=\"fri\">19</td><td class=\"sat\">20</td></tr>\n",
      "<tr><td class=\"sun\">21</td><td class=\"mon\">22</td><td class=\"tue\">23</td><td class=\"wed\">24</td><td class=\"thu\">25</td><td class=\"fri\">26</td><td class=\"sat\">27</td></tr>\n",
      "<tr><td class=\"sun\">28</td><td class=\"mon\">29</td><td class=\"tue\">30</td><td class=\"wed\">31</td><td class=\"noday\">&nbsp;</td><td class=\"noday\">&nbsp;</td><td class=\"noday\">&nbsp;</td></tr>\n",
      "</table>\n",
      "\n"
     ]
    }
   ],
   "source": [
    "import calendar\n",
    "c= calendar.TextCalendar(calendar.SUNDAY)\n",
    "cal = c.formatmonth(2019,7)\n",
    "print(cal)\n",
    "\n",
    "hc= calendar.HTMLCalendar(calendar.SUNDAY)\n",
    "hcal = hc.formatmonth(2019,7)\n",
    "print(hcal)"
   ]
  },
  {
   "cell_type": "code",
   "execution_count": 3,
   "metadata": {},
   "outputs": [],
   "source": [
    "import calendar\n",
    "\n",
    "\n",
    "hc= calendar.HTMLCalendar(calendar.SUNDAY)\n",
    "with open('calendar.html', 'w') as g:\n",
    "    print(hc.formatyear(2019, width=4), file=g)"
   ]
  },
  {
   "cell_type": "code",
   "execution_count": 3,
   "metadata": {},
   "outputs": [
    {
     "name": "stdout",
     "output_type": "stream",
     "text": [
      "<_io.BufferedRandom name='Hello.txt'>\n"
     ]
    }
   ],
   "source": [
    "with open('Hello.txt', 'wb+') as lp:\n",
    "    data = lp.read()    \n",
    "print(lp)"
   ]
  },
  {
   "cell_type": "code",
   "execution_count": null,
   "metadata": {},
   "outputs": [],
   "source": []
  }
 ],
 "metadata": {
  "kernelspec": {
   "display_name": "Python 3",
   "language": "python",
   "name": "python3"
  },
  "language_info": {
   "codemirror_mode": {
    "name": "ipython",
    "version": 3
   },
   "file_extension": ".py",
   "mimetype": "text/x-python",
   "name": "python",
   "nbconvert_exporter": "python",
   "pygments_lexer": "ipython3",
   "version": "3.7.3"
  }
 },
 "nbformat": 4,
 "nbformat_minor": 2
}
