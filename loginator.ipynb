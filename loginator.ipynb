{
 "cells": [
  {
   "cell_type": "code",
   "execution_count": 1,
   "metadata": {},
   "outputs": [
    {
     "name": "stdout",
     "output_type": "stream",
     "text": [
      "Натисніть 1 для входу\n",
      "Натисніть 2 для реєстрації\n",
      "Натисніть 3 для виходу\n",
      "2\n",
      "Введіть логін для реєстрації \n",
      "12\n",
      "Введіть пароль для реєстрації \n",
      "10\n",
      "Введіть пароль для реєстрації ще раз \n",
      "10\n",
      "Тепер ви можете ввійти\n",
      "Введіть логін12\n",
      "Password \n",
      "10\n",
      "Ви ввійшли\n"
     ]
    }
   ],
   "source": [
    "def menu():\n",
    "    while True:\n",
    "        print('''Натисніть 1 для входу\n",
    "Натисніть 2 для реєстрації\n",
    "Натисніть 3 для виходу''')\n",
    "        a = int(input())\n",
    "        if a == 1:\n",
    "            login()\n",
    "            break\n",
    "        if a == 2:\n",
    "            registration()\n",
    "            break\n",
    "        if a == 3:\n",
    "            break\n",
    "                    \n",
    "            \n",
    "def login():\n",
    "    with open('lp.txt', 'r+') as lp:\n",
    "        data = lp.readlines()\n",
    "    log = []\n",
    "    pas = []\n",
    "    new_dict ={}\n",
    "    for i in data:\n",
    "        a, b= i.split()\n",
    "        #add log and pass in 2 lists\n",
    "        log.append(a)\n",
    "        pas.append(b)\n",
    "\n",
    "    if True:\n",
    "        logg = input('Введіть логін')\n",
    "        if logg in log:\n",
    "            index_for_pass = log.index(logg)\n",
    "            passs = input('Введіть пароль \\n')\n",
    "            if passs == pas[index_for_pass]:\n",
    "                print('Ви ввійшли')\n",
    "                return True\n",
    "            else:\n",
    "                print('Спробуйте ще')\n",
    "        else:\n",
    "            print('Спробуйте ще')\n",
    "            logg = input('Введіть логін')\n",
    "            if logg in log:\n",
    "                index_for_pass = log.index(logg)\n",
    "                passs = input('Введіть пароль \\n')\n",
    "                if passs == pas[index_for_pass]:\n",
    "                    print('Ви ввійшли')\n",
    "                    return True\n",
    "            else:\n",
    "                print('В доступі відмовлено')\n",
    " \n",
    "       \n",
    "    \n",
    "def registration():\n",
    "    with open('lp.txt', 'r+') as lp:\n",
    "        data = lp.readlines()\n",
    "    new_login = input('Введіть логін для реєстрації \\n')\n",
    "    new_password = input('Введіть пароль для реєстрації \\n')\n",
    "    new_password2 = input('Введіть пароль для реєстрації ще раз \\n')\n",
    "    if new_password == new_password2:\n",
    "        new_user = str((new_login+\" \"+new_password2+\"\\n\"))\n",
    "    with open(\"lp.txt\", \"a\") as myfile:\n",
    "        myfile.write(new_user)\n",
    "    print('Тепер ви можете ввійти')\n",
    "    login()    \n",
    "    \n",
    "\n",
    "menu()"
   ]
  },
  {
   "cell_type": "code",
   "execution_count": null,
   "metadata": {},
   "outputs": [],
   "source": []
  }
 ],
 "metadata": {
  "kernelspec": {
   "display_name": "Python 3",
   "language": "python",
   "name": "python3"
  },
  "language_info": {
   "codemirror_mode": {
    "name": "ipython",
    "version": 3
   },
   "file_extension": ".py",
   "mimetype": "text/x-python",
   "name": "python",
   "nbconvert_exporter": "python",
   "pygments_lexer": "ipython3",
   "version": "3.7.3"
  }
 },
 "nbformat": 4,
 "nbformat_minor": 2
}
