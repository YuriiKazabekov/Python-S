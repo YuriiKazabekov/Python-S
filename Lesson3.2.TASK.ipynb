{
 "cells": [
  {
   "cell_type": "markdown",
   "metadata": {},
   "source": [
    "# Урок №3.2. Колекції"
   ]
  },
  {
   "cell_type": "markdown",
   "metadata": {},
   "source": [
    "## Task"
   ]
  },
  {
   "cell_type": "markdown",
   "metadata": {},
   "source": [
    "Знайти медіану рандомного списку"
   ]
  },
  {
   "cell_type": "code",
   "execution_count": null,
   "metadata": {},
   "outputs": [],
   "source": [
    "import random\n",
    "lister = []\n",
    "a = random.randint(1,10)\n",
    "for i in range(a):\n",
    "    lister.append(random.randint(1,1000))\n",
    "lister.sort()\n",
    "print(lister)\n",
    "\n",
    "if len(lister)%2 !=0:\n",
    "    print(lister[len(lister)//2])\n",
    "else:\n",
    "    print((lister[len(lister)//2 - 1]+lister[len(lister)//2])/2)"
   ]
  },
  {
   "cell_type": "markdown",
   "metadata": {},
   "source": [
    "Переставьте соседние элементы списка (A[0] c A[1], A[2] c A[3] и т. д.). Если элементов нечетное число, то последний элемент остается на своем месте."
   ]
  },
  {
   "cell_type": "code",
   "execution_count": null,
   "metadata": {},
   "outputs": [],
   "source": [
    "import random\n",
    "lister = []\n",
    "a = random.randint(5,9)\n",
    "for i in range(a):\n",
    "    lister.append(random.randint(1,1000))\n",
    "print(lister)\n",
    "if len(lister)%2 == 0:\n",
    "    for i in range(0,len(lister)-1,2):\n",
    "        lister[i], lister[i+1] = lister[i+1], lister[i]\n",
    "else:\n",
    "    for i in range(0,len(lister)-1,2):\n",
    "        lister[i], lister[i+1] = lister[i+1], lister[i]\n",
    "print(lister)"
   ]
  },
  {
   "cell_type": "markdown",
   "metadata": {},
   "source": [
    "Дан список чисел. Если в нем есть два соседних элемента одного знака, выведите эти числа. Если соседних элементов одного знака нет — не выводите ничего. Если таких пар соседей несколько — выведите первую пару."
   ]
  },
  {
   "cell_type": "code",
   "execution_count": 2,
   "metadata": {},
   "outputs": [
    {
     "name": "stdout",
     "output_type": "stream",
     "text": [
      "Введіть список\n",
      "2 -2 2 -2 4 4 5\n",
      "4 4 "
     ]
    }
   ],
   "source": [
    "print('Введіть список')\n",
    "a = input().split()\n",
    "for i in range(len(a)-1):\n",
    "    n = int(a[i]) \n",
    "    i += 1\n",
    "    m = int(a[i]) \n",
    "    if (n * m) > 0:\n",
    "        print(n, m, end=' ')\n",
    "        break"
   ]
  },
  {
   "cell_type": "markdown",
   "metadata": {},
   "source": [
    "Дан список целых чисел, число k и значение C. Необходимо вставить в список на позицию с индексом k элемент, равный C, сдвинув все элементы, имевшие индекс не менее k, вправо.\n",
    "Поскольку при этом количество элементов в списке увеличивается, после считывания списка в его конец нужно будет добавить новый элемент, используя метод append.\n",
    "\n",
    "Вставку необходимо осуществлять уже в считанном списке, не делая этого при выводе и не создавая дополнительного списка.\n",
    "* 7 6 5 4 3 2 1___\n",
    "2 0\n",
    "* 7 6 0 5 4 3 2 1"
   ]
  },
  {
   "cell_type": "code",
   "execution_count": null,
   "metadata": {},
   "outputs": [],
   "source": []
  },
  {
   "cell_type": "markdown",
   "metadata": {},
   "source": [
    "Задача по посиланню: http://pythontutor.ru/lessons/lists/problems/kegelbahn/"
   ]
  },
  {
   "cell_type": "code",
   "execution_count": null,
   "metadata": {},
   "outputs": [],
   "source": []
  }
 ],
 "metadata": {
  "kernelspec": {
   "display_name": "Python 3",
   "language": "python",
   "name": "python3"
  },
  "language_info": {
   "codemirror_mode": {
    "name": "ipython",
    "version": 3
   },
   "file_extension": ".py",
   "mimetype": "text/x-python",
   "name": "python",
   "nbconvert_exporter": "python",
   "pygments_lexer": "ipython3",
   "version": "3.7.3"
  }
 },
 "nbformat": 4,
 "nbformat_minor": 2
}
