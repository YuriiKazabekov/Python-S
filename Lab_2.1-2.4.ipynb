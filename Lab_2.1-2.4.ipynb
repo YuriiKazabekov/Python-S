{
 "cells": [
  {
   "cell_type": "markdown",
   "metadata": {},
   "source": [
    "* 2.1\n",
    "Write the code to do following:\n",
    "• Create any variable with name var1\n",
    "• Check type of var1 with type function\n",
    "• Check is var1 is True\n",
    "• Check is var1 is False\n",
    "• Create var2 that equal to (var1 or True)\n",
    "• Check is var2 is True\n",
    "• Check is var2 is False\n",
    "• Check result for var2 and var1"
   ]
  },
  {
   "cell_type": "code",
   "execution_count": 11,
   "metadata": {},
   "outputs": [
    {
     "name": "stdout",
     "output_type": "stream",
     "text": [
      "<class 'bool'>\n",
      "var1 is False\n",
      "var2 is True\n",
      "var2 value is - %(var2)s\n"
     ]
    }
   ],
   "source": [
    "var1 = False\n",
    "print(type(var1))\n",
    "if var1 is True: print('var1 is True')\n",
    "if var1 is False: print('var1 is False')\n",
    "var2 = var1 or True\n",
    "if var2 is True: print('var2 is True')\n",
    "if var2 is False: print('var2 is False')\n",
    "print(\"var2 value is - %(var2)s\")"
   ]
  },
  {
   "cell_type": "markdown",
   "metadata": {},
   "source": [
    "* 2.2\n",
    "Write the code to perform following task:\n",
    "• Generate sequence 5 integers long from range(0, 100)\n",
    "• Generate random float\n",
    "• Print variables above\n",
    "• Find max element from generated sequence\n",
    "• Make a floor division between max element and generated float\n",
    "• Find factorial of the result above\n",
    "• Shorten the code as much as possible\n"
   ]
  },
  {
   "cell_type": "code",
   "execution_count": 31,
   "metadata": {},
   "outputs": [
    {
     "name": "stdout",
     "output_type": "stream",
     "text": [
      "[29, 52, 22, 12, 59]\n",
      "0.1992469980230438\n",
      "59\n",
      "296.0\n",
      "38551198780776703514355955497864152183598006125462813941048147830661410124871689249458172947338248134685368078604994824008462930800048695654547380219934646059963343556836619886147206040157138938291186270481785513522834718953467680465801070793435469571413363977980169492638019789571739289248778281273817755350571672131432604180208209650249952275587237642764122659427364980856405106475624194319026520722989631118206494985135983970546134618152777599185098962898690031134771071360860966758519962712225627768799968341130430478888025980928000000000000000000000000000000000000000000000000000000000000000000000000\n"
     ]
    }
   ],
   "source": [
    "import random\n",
    "import math\n",
    "rsequence = random.sample(range(100),5)\n",
    "rfloat = random.random()\n",
    "print(rsequence) \n",
    "print(rfloat)\n",
    "maxrs = max(rsequence)\n",
    "print(maxrs)\n",
    "print(maxrs//rfloat)\n",
    "print(math.factorial(maxrs//rfloat))"
   ]
  },
  {
   "cell_type": "markdown",
   "metadata": {},
   "source": [
    "* 2.3\n",
    "Write the code to do following:\n",
    "• Generate string with lowercase and uppercase alphabet plus\n",
    "numbers\n",
    "• Print 1st symbol of string\n",
    "• Print last symbol\n",
    "• Print 3rd from start and 3rd from the end\n",
    "• Slice first 8 symbols\n",
    "• Print only symbols with index, which divides on 3 without remaining\n",
    "• Print the symbol of the middle of the string text\n",
    "• Reverse text using slice"
   ]
  },
  {
   "cell_type": "code",
   "execution_count": 42,
   "metadata": {},
   "outputs": [
    {
     "name": "stdout",
     "output_type": "stream",
     "text": [
      "A\n",
      "5\n",
      "C 3\n",
      "ABCDE ab\n",
      "ADad14\n",
      "c\n",
      "54321 edcba EDCBA\n"
     ]
    }
   ],
   "source": [
    "s = 'ABCDE abcde 12345'\n",
    "print(s[0])\n",
    "print(s[-1])\n",
    "print(s[2], s[-3])\n",
    "print(s[0:8])\n",
    "s1 = ''\n",
    "for i in range(len(s)):\n",
    "     if i % 3 == 0: s1 = s1 + s[i]\n",
    "print(s1)\n",
    "print(s[int(len(s)/2)])\n",
    "print(s[::-1])"
   ]
  },
  {
   "cell_type": "markdown",
   "metadata": {},
   "source": [
    "* 2.4 \n",
    "Write the code to do following:\n",
    "• Generate list with lowercase and uppercase alphabet plus numbers\n",
    "• Print 1st symbol of list\n",
    "• Print last symbol\n",
    "• Print 3rd from start and 3rd from the end\n",
    "• Slice first 10 symbols\n",
    "• Print only symbols with index, which divides on 2 without remaining\n",
    "• Print only integer values from list\n",
    "• Reverse list using slice\n",
    "• Convert base list into string"
   ]
  },
  {
   "cell_type": "code",
   "execution_count": 61,
   "metadata": {},
   "outputs": [
    {
     "name": "stdout",
     "output_type": "stream",
     "text": [
      "A\n",
      "[5]\n",
      "C 3\n",
      "['A', 'B', 'C', 'D', 'E', 'a', 'b', 'c', 'd', 'e']\n",
      "['A', 'C', 'E', 'b', 'd', 1, 3, 5]\n",
      "[1, 2, 3, 4, 5]\n",
      "[5, 4, 3, 2, 1, 'e', 'd', 'c', 'b', 'a', 'E', 'D', 'C', 'B', 'A']\n",
      "ABCDEabcde12345\n"
     ]
    }
   ],
   "source": [
    "l = ['A', 'B', 'C','D','E', 'a', 'b', 'c','d','e', 1, 2, 3, 4, 5]\n",
    "print(l[0])\n",
    "print(l[-1:])\n",
    "print(l[2], l[-3])\n",
    "print(l[0:10])\n",
    "l1 = []\n",
    "for i in range(len(l)):\n",
    "     if i % 2 == 0: l1.append(l[i])\n",
    "print(l1)\n",
    "l2 = []\n",
    "for i in range(len(l)):\n",
    "     if type(l[i]) == int: l2.append(l[i])\n",
    "print(l2)\n",
    "print(l[::-1])\n",
    "str1 = ''.join(str(i) for i in l) \n",
    "print(str1)"
   ]
  }
 ],
 "metadata": {
  "celltoolbar": "Raw Cell Format",
  "kernelspec": {
   "display_name": "Python 3",
   "language": "python",
   "name": "python3"
  },
  "language_info": {
   "codemirror_mode": {
    "name": "ipython",
    "version": 3
   },
   "file_extension": ".py",
   "mimetype": "text/x-python",
   "name": "python",
   "nbconvert_exporter": "python",
   "pygments_lexer": "ipython3",
   "version": "3.7.3"
  }
 },
 "nbformat": 4,
 "nbformat_minor": 2
}
