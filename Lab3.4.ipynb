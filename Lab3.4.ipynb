{
 "cells": [
  {
   "cell_type": "markdown",
   "metadata": {},
   "source": [
    "Write a program, which takes a year as input and returns message if this is a leap  year or note.\n",
    "Please handle the exceptions which may arise is a user will enter nonnumeric symbols.  \n",
    "Additional task – to show the closest leap year in case if entered year is not leap. \n",
    "Optional task - Add a possibility to print all the leap years within given range"
   ]
  },
  {
   "cell_type": "code",
   "execution_count": 8,
   "metadata": {},
   "outputs": [
    {
     "name": "stdout",
     "output_type": "stream",
     "text": [
      "Press 1 if you want to check one year or press 2 if you want to get list of leap years\n",
      "1\n",
      "Input year2001\n",
      "2000 is the closest leap year\n"
     ]
    }
   ],
   "source": [
    "print('Press 1 if you want to check one year or press 2 if you want to get list of leap years')\n",
    "a = int(input())\n",
    "if a == 1:\n",
    "    try:\n",
    "        year = int(input('Input year'))\n",
    "    except ValueError:\n",
    "        print('It is nonnumeric symbols, restart program')\n",
    "    else:   \n",
    "        if (year % 4 == 0 and year % 100 != 0) or (year % 400 == 0):\n",
    "                print(str(year) + \" is leap year\")\n",
    "        else:\n",
    "            l = (year-1, year+1, year-2, year+2, year-3, year+3, year-4, year+4)\n",
    "            for i in l: \n",
    "                if (i % 4 == 0 and i % 100 != 0) or (i % 400 == 0):\n",
    "                    print(str(i) + \" is the closest leap year\")\n",
    "                    break\n",
    "else:\n",
    "    try:\n",
    "        year1 = int(input('Input first year'))\n",
    "        year2 = int(input('Input last year'))\n",
    "    except ValueError:\n",
    "        print('It is nonnumeric symbols, restart program')\n",
    "    else:   \n",
    "        for year1 in range(year1, year2): \n",
    "            if (year1 % 4 == 0 and year1 % 100 != 0) or (year1 % 400 == 0):\n",
    "                print(year1)\n",
    "                year1 = year1 + 1"
   ]
  },
  {
   "cell_type": "code",
   "execution_count": null,
   "metadata": {},
   "outputs": [],
   "source": []
  }
 ],
 "metadata": {
  "kernelspec": {
   "display_name": "Python 3",
   "language": "python",
   "name": "python3"
  },
  "language_info": {
   "codemirror_mode": {
    "name": "ipython",
    "version": 3
   },
   "file_extension": ".py",
   "mimetype": "text/x-python",
   "name": "python",
   "nbconvert_exporter": "python",
   "pygments_lexer": "ipython3",
   "version": "3.7.3"
  }
 },
 "nbformat": 4,
 "nbformat_minor": 2
}
