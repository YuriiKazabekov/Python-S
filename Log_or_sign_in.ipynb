{
 "cells": [
  {
   "cell_type": "code",
   "execution_count": 1,
   "metadata": {},
   "outputs": [],
   "source": [
    "def menu():\n",
    "    while True:\n",
    "        print('''Натисніть 1 для входу\n",
    "Натисніть 2 для реєстрації\n",
    "Натисніть 3 для виходу''')\n",
    "        a = int(input())\n",
    "        if a == 1:\n",
    "            login()\n",
    "            break\n",
    "        if a == 2:\n",
    "            registration()\n",
    "            break\n",
    "        if a == 3:\n",
    "            break"
   ]
  },
  {
   "cell_type": "code",
   "execution_count": 2,
   "metadata": {},
   "outputs": [],
   "source": [
    "def login():\n",
    "    with open('lp.txt', 'r+') as lp:\n",
    "        data = lp.readlines()\n",
    "    log = []\n",
    "    pas = []\n",
    "    new_dict ={}\n",
    "    for i in data:\n",
    "        a, b= i.split()\n",
    "        #add log and pass in 2 lists\n",
    "        log.append(a)\n",
    "        pas.append(b)\n",
    "\n",
    "    if True:\n",
    "        logg = input('Введіть логін')\n",
    "        if logg in log:\n",
    "            index_for_pass = log.index(logg)\n",
    "            passs = input('Password \\n')\n",
    "            if passs == pas[index_for_pass]:\n",
    "                print('Ви ввійшли')\n",
    "                return True\n",
    "            else:\n",
    "                print('Спробуйте ще')\n",
    "        else:\n",
    "            print('Спробуйте ще')\n",
    "            logg = input('Введіть логін')\n",
    "            if logg in log:\n",
    "                index_for_pass = log.index(logg)\n",
    "                passs = input('Password \\n')\n",
    "                if passs == pas[index_for_pass]:\n",
    "                    print('Ви ввійшли')\n",
    "                    return True\n",
    "            else:\n",
    "                print('В доступі відмовлено')\n",
    " \n",
    "       "
   ]
  },
  {
   "cell_type": "code",
   "execution_count": 3,
   "metadata": {},
   "outputs": [
    {
     "name": "stdout",
     "output_type": "stream",
     "text": [
      "Натисніть 1 для входу\n",
      "Натисніть 2 для реєстрації\n",
      "Натисніть 3 для виходу\n",
      "1\n",
      "Введіть логінuser1\n",
      "Password \n",
      "123\n",
      "Ви ввійшли\n"
     ]
    }
   ],
   "source": [
    "def registration():\n",
    "    with open('lp.txt', 'r+') as lp:\n",
    "        data = lp.readlines()\n",
    "    print(data)"
   ]
  },
  {
   "cell_type": "code",
   "execution_count": 11,
   "metadata": {},
   "outputs": [
    {
     "ename": "SyntaxError",
     "evalue": "unexpected character after line continuation character (<ipython-input-11-86ed535e12d6>, line 8)",
     "output_type": "error",
     "traceback": [
      "\u001b[1;36m  File \u001b[1;32m\"<ipython-input-11-86ed535e12d6>\"\u001b[1;36m, line \u001b[1;32m8\u001b[0m\n\u001b[1;33m    new_user = (new_password+\" \"+new_password2+\\n)\u001b[0m\n\u001b[1;37m                                                  ^\u001b[0m\n\u001b[1;31mSyntaxError\u001b[0m\u001b[1;31m:\u001b[0m unexpected character after line continuation character\n"
     ]
    }
   ],
   "source": [
    "with open('lp.txt', 'r+') as lp:\n",
    "        data = lp.readlines()\n",
    "print(data)\n",
    "new_login = input('Введіть логін для реєстрації')\n",
    "new_password = input('Введіть пароль для реєстрації')\n",
    "new_password2 = input('Введіть пароль для реєстрації ще раз')\n",
    "if new_password == new_password1:\n",
    "    new_user = (new_password+\" \"+new_password2+\\n)\n"
   ]
  },
  {
   "cell_type": "code",
   "execution_count": 10,
   "metadata": {},
   "outputs": [
    {
     "name": "stdout",
     "output_type": "stream",
     "text": [
      "Введіть логін для реєстраціїuser6\n",
      "Введіть пароль для реєстрації678\n",
      "Введіть пароль для реєстрації ще раз678\n",
      "user6 678\n",
      "\n"
     ]
    }
   ],
   "source": [
    "new_login = input('Введіть логін для реєстрації')\n",
    "new_password = input('Введіть пароль для реєстрації')\n",
    "new_password2 = input('Введіть пароль для реєстрації ще раз')\n",
    "if new_password == new_password2:\n",
    "    new_user = (new_login+\" \"+new_password2+\"\\n\")\n",
    "print(new_user)"
   ]
  },
  {
   "cell_type": "code",
   "execution_count": null,
   "metadata": {},
   "outputs": [],
   "source": []
  }
 ],
 "metadata": {
  "kernelspec": {
   "display_name": "Python 3",
   "language": "python",
   "name": "python3"
  },
  "language_info": {
   "codemirror_mode": {
    "name": "ipython",
    "version": 3
   },
   "file_extension": ".py",
   "mimetype": "text/x-python",
   "name": "python",
   "nbconvert_exporter": "python",
   "pygments_lexer": "ipython3",
   "version": "3.7.3"
  }
 },
 "nbformat": 4,
 "nbformat_minor": 2
}
