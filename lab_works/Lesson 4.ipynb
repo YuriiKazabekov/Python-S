{
 "cells": [
  {
   "cell_type": "markdown",
   "metadata": {},
   "source": [
    "# Lesson 4 - practice"
   ]
  },
  {
   "cell_type": "markdown",
   "metadata": {},
   "source": [
    "#### Задача 1"
   ]
  },
  {
   "cell_type": "markdown",
   "metadata": {},
   "source": [
    "Дані катети прямокутного трикутника. Знайти гіпотенузу"
   ]
  },
  {
   "cell_type": "code",
   "execution_count": 3,
   "metadata": {},
   "outputs": [
    {
     "name": "stdout",
     "output_type": "stream",
     "text": [
      "2\n",
      "3\n",
      "3.605551275463989\n"
     ]
    }
   ],
   "source": [
    "import math\n",
    "a = int(input())\n",
    "b = int(input())\n",
    "c = math.sqrt(a**2 + b**2)\n",
    "print(c)"
   ]
  },
  {
   "cell_type": "markdown",
   "metadata": {},
   "source": [
    "#### Задача 2"
   ]
  },
  {
   "cell_type": "markdown",
   "metadata": {},
   "source": [
    "Дано два числа. Вивести перше число, якщо воно більше за друге, інакше вивести 2 числа"
   ]
  },
  {
   "cell_type": "code",
   "execution_count": 4,
   "metadata": {},
   "outputs": [
    {
     "name": "stdout",
     "output_type": "stream",
     "text": [
      "2\n",
      "3\n",
      "2 3\n"
     ]
    }
   ],
   "source": [
    "a = int(input())\n",
    "b = int(input())\n",
    "if a > b:\n",
    "    print(a)\n",
    "else:\n",
    "    print (a, b)"
   ]
  },
  {
   "cell_type": "markdown",
   "metadata": {},
   "source": [
    "#### Задача 2.1"
   ]
  },
  {
   "cell_type": "markdown",
   "metadata": {},
   "source": [
    "Если вводится температура в градусах по шкале Цельсия, то она переводится в температуру по шкале Фаренгейта. Или наоборот: температура по Фаренгейту переводится в температуру по Цельсию."
   ]
  },
  {
   "cell_type": "code",
   "execution_count": 12,
   "metadata": {},
   "outputs": [
    {
     "name": "stdout",
     "output_type": "stream",
     "text": [
      "45\n",
      "39.2\n"
     ]
    }
   ],
   "source": [
    "t = str(input())\n",
    "lenght = len (t)\n",
    "type = t[lenght -1]\n",
    "num = t [0:lenght -1]\n",
    "tempc = 5/9*(float(num) - 32)\n",
    "tempf = 9/5 * float(num) + 32\n",
    "if type == 'c':\n",
    "    print(tempc)\n",
    "else:\n",
    "    print(tempf)"
   ]
  },
  {
   "cell_type": "markdown",
   "metadata": {},
   "source": [
    "#### Задача 2.2"
   ]
  },
  {
   "cell_type": "markdown",
   "metadata": {},
   "source": [
    "Визначити швидкість, час чи відстань взалежності від введених даних"
   ]
  },
  {
   "cell_type": "code",
   "execution_count": 21,
   "metadata": {},
   "outputs": [
    {
     "name": "stdout",
     "output_type": "stream",
     "text": [
      "Напишіть що ви хочете знайти v/s/t\n",
      "v\n",
      "Введіть s\n",
      "100\n",
      "Введіть t\n",
      "2\n",
      "50.0 м/c\n"
     ]
    }
   ],
   "source": [
    "print('Напишіть що ви хочете знайти v/s/t')\n",
    "a = str(input())\n",
    "if a == 'v': \n",
    "    print('Введіть s')\n",
    "    s = float(input())\n",
    "    print('Введіть t')\n",
    "    t = float(input())\n",
    "    v = s/t\n",
    "    print(f'{v} м/c') \n",
    "elif a == 's': \n",
    "    print('Введіть v')\n",
    "    v = float(input())\n",
    "    print('Введіть t')\n",
    "    t = float(input())\n",
    "    s = v*t\n",
    "    print(f'{s} м') \n",
    "elif a == 't':    \n",
    "    print('Введіть s')\n",
    "    s = float(input())\n",
    "    print('Введіть v')\n",
    "    v = float(input())\n",
    "    t = s/v\n",
    "    print(f'{t} c') \n",
    "else:\n",
    "    ('Введено невірні дані')"
   ]
  },
  {
   "cell_type": "markdown",
   "metadata": {},
   "source": [
    "#### Задача 3"
   ]
  },
  {
   "cell_type": "markdown",
   "metadata": {},
   "source": [
    "Даны действительные числа x, y. Меньшее из этих двух чисел заменить их полусуммой, а большее – их удвоенным произведением."
   ]
  },
  {
   "cell_type": "code",
   "execution_count": 23,
   "metadata": {},
   "outputs": [
    {
     "name": "stdout",
     "output_type": "stream",
     "text": [
      "Введіть x\n",
      "6\n",
      "Введіть y\n",
      "2\n",
      "24 4.0\n"
     ]
    }
   ],
   "source": [
    "print('Введіть x')\n",
    "x = int(input())\n",
    "print('Введіть y')\n",
    "y = int(input())\n",
    "if x == y:\n",
    "    print('Числа однакові')\n",
    "elif x < y:\n",
    "    a = (x+y)/2\n",
    "    b = 2*x*y\n",
    "    print(a, b)\n",
    "else:\n",
    "    a = 2*x*y\n",
    "    b = (x+y)/2\n",
    "    print(a, b)"
   ]
  },
  {
   "cell_type": "markdown",
   "metadata": {},
   "source": [
    "#### Задача 4"
   ]
  },
  {
   "cell_type": "markdown",
   "metadata": {},
   "source": [
    "Дано натуральное число n.\n",
    "* Сколько цифр в числе n?\n",
    "* Чему равна сумма его цифр?\n",
    "* Найти последнюю цифру числа n.\n",
    "* Найти первую цифру числа n.\n",
    "* В предположении, что n > 10, найти предпоследнюю цифру числа n.\n"
   ]
  },
  {
   "cell_type": "code",
   "execution_count": 49,
   "metadata": {},
   "outputs": [
    {
     "name": "stdout",
     "output_type": "stream",
     "text": [
      "Введіть n\n",
      "9\n",
      "Кількість цифр =  1\n",
      "Сума = 9\n",
      "остання цифра =  9\n",
      "перша цифра =  9\n",
      "Число не більше 10\n"
     ]
    }
   ],
   "source": [
    "print('Введіть n')\n",
    "n = str(input())\n",
    "print(f'Кількість цифр =  {len(n)}')\n",
    "suma = 0\n",
    "for i in n:\n",
    "   suma = suma + int(i)\n",
    "print(f'Сума = {suma}')\n",
    "print(f'остання цифра =  {n[-1]}')\n",
    "print(f'перша цифра =  {n[0]}')\n",
    "if int(n) > 10 :\n",
    "    print(f'передостання цифра =  {n[-2:-1]}')\n",
    "else:\n",
    "    print('Число не більше 10')\n"
   ]
  },
  {
   "cell_type": "markdown",
   "metadata": {},
   "source": [
    "#### Задача 5"
   ]
  },
  {
   "cell_type": "markdown",
   "metadata": {},
   "source": [
    "Дано натуральное число n.\n",
    "* Является ли это число палиндромом (перевертышем) с учетом четырех цифр, как, например, числа 2222, 6116, 0440 и т. д.?\n",
    "* Верно ли, что это число содержит ровно три одинаковые цифры, как, например, числа 6676, 4544, 0006 и т. д.?\n",
    "* верно ли, что все цифры числа различны?\n"
   ]
  },
  {
   "cell_type": "code",
   "execution_count": null,
   "metadata": {},
   "outputs": [],
   "source": [
    "print('Введіть n')\n",
    "n = str(input())\n",
    "if int(n) > 10 :\n",
    "    print(f'передостання цифра =  {n[-2:-1]}')"
   ]
  },
  {
   "cell_type": "markdown",
   "metadata": {},
   "source": [
    "#### Задача 6"
   ]
  },
  {
   "cell_type": "markdown",
   "metadata": {},
   "source": [
    "Даны натуральное n, m. Получить сумму m последних цифр числа n."
   ]
  },
  {
   "cell_type": "code",
   "execution_count": null,
   "metadata": {},
   "outputs": [],
   "source": []
  },
  {
   "cell_type": "markdown",
   "metadata": {},
   "source": [
    "#### Задача 7"
   ]
  },
  {
   "cell_type": "markdown",
   "metadata": {},
   "source": [
    "Дано натуральное число n.\n",
    "* Выяснить, входить ли цифра 3 в запись числа n^2 .\n",
    "* Поменять порядок цифр числа n на обратный.\n",
    "* Переставить первую и последнюю цифры числа n.\n",
    "* Приписать по единице в начало и в конец записи числа n.\n"
   ]
  },
  {
   "cell_type": "code",
   "execution_count": null,
   "metadata": {},
   "outputs": [],
   "source": []
  },
  {
   "cell_type": "markdown",
   "metadata": {},
   "source": [
    "#### Задача 8"
   ]
  },
  {
   "cell_type": "markdown",
   "metadata": {},
   "source": [
    "Даны натуральные числа n, a1, … , an. Определить количество членов\n",
    "последовательности:\n",
    "* являющихся нечетными числами;\n",
    "* нечетны и отрицательны\n",
    "* кратных 3 и не кратных 5;\n",
    "* являющихся квадратами четных чисел;\n",
    "* имеющих четные порядковые номера и являющихся нечетными числами.\n",
    "* ---\n",
    "* вивести min та max даної послідовності\n",
    "* знайти max серед непарних чисел\n",
    "* всі числа послідовності, більші 10, замінити на 10\n"
   ]
  },
  {
   "cell_type": "code",
   "execution_count": 5,
   "metadata": {},
   "outputs": [
    {
     "name": "stdout",
     "output_type": "stream",
     "text": [
      "[1, -5, 10, 7, 10, 10]\n"
     ]
    }
   ],
   "source": [
    "\n",
    "a = [1,-5,33,7,24,64]\n",
    "for i in range(len(a)):\n",
    "    if a[i] >10:\n",
    "        a[i] = 10\n",
    "print(a)\n",
    "\n"
   ]
  },
  {
   "cell_type": "markdown",
   "metadata": {},
   "source": [
    "#### Задача 9"
   ]
  },
  {
   "cell_type": "markdown",
   "metadata": {},
   "source": [
    "Створити список з 10 елементів і заповнити рандомними числами\n",
    "* отримати числа, які входять в список лише по одному разу, та записати їх в новий список\n",
    "* порахувати кількість різних членів списку\n"
   ]
  },
  {
   "cell_type": "code",
   "execution_count": 10,
   "metadata": {},
   "outputs": [
    {
     "name": "stdout",
     "output_type": "stream",
     "text": [
      "[1, -5, 7, 64]\n",
      "2\n"
     ]
    }
   ],
   "source": [
    "a = [1,-5,33,7,33,24,24,64]\n",
    "b = []\n",
    "for i in a:\n",
    "    k = a.count(i)\n",
    "    if k == 1:\n",
    "        b.append(i)\n",
    "        \n",
    "print(b)\n",
    "for i in b:\n",
    "    m = a.count(i)\n",
    "    if m == 1:\n",
    "        m = m+1\n",
    "print(m)"
   ]
  },
  {
   "cell_type": "markdown",
   "metadata": {},
   "source": [
    "#### Задача 10"
   ]
  },
  {
   "cell_type": "markdown",
   "metadata": {},
   "source": [
    "Імпортувати модуль this, порахувати кількість слів (без врахувань символів), кількість повторень слів, та вивести топ-10"
   ]
  },
  {
   "cell_type": "code",
   "execution_count": null,
   "metadata": {},
   "outputs": [],
   "source": []
  },
  {
   "cell_type": "markdown",
   "metadata": {},
   "source": [
    "#### Задача 11"
   ]
  },
  {
   "cell_type": "markdown",
   "metadata": {},
   "source": [
    "Створити матрицю, розміром m x n, заповнити її рандомними числами. Знайти max та min  та вивести їх індекс в матриці. "
   ]
  },
  {
   "cell_type": "code",
   "execution_count": null,
   "metadata": {},
   "outputs": [],
   "source": []
  },
  {
   "cell_type": "markdown",
   "metadata": {},
   "source": [
    "#### Задача 12"
   ]
  },
  {
   "cell_type": "markdown",
   "metadata": {},
   "source": [
    "Дано нечетное число n. Создайте двумерный массив из n×n элементов, заполнив его символами \".\" (каждый элемент массива является строкой из одного символа). Затем заполните символами \"*\" среднюю строку массива, средний столбец массива, главную диагональ и побочную диагональ. В результате единицы в массиве должны образовывать изображение звездочки. Выведите полученный массив на экран, разделяя элементы массива пробелами. https://pythontutor.ru/lessons/2d_arrays/problems/snowflake/"
   ]
  },
  {
   "cell_type": "code",
   "execution_count": null,
   "metadata": {},
   "outputs": [],
   "source": []
  },
  {
   "cell_type": "markdown",
   "metadata": {},
   "source": [
    "#### Задача 13"
   ]
  },
  {
   "cell_type": "markdown",
   "metadata": {},
   "source": [
    "Дана строка, состоящая из слов, разделенных пробелами. Определите, сколько в ней слов. "
   ]
  },
  {
   "cell_type": "code",
   "execution_count": null,
   "metadata": {},
   "outputs": [],
   "source": []
  },
  {
   "cell_type": "markdown",
   "metadata": {},
   "source": [
    "#### Задача 14"
   ]
  },
  {
   "cell_type": "markdown",
   "metadata": {},
   "source": [
    "Вивести послідовність Фібоначчі"
   ]
  },
  {
   "cell_type": "code",
   "execution_count": null,
   "metadata": {},
   "outputs": [],
   "source": []
  },
  {
   "cell_type": "markdown",
   "metadata": {},
   "source": [
    "#### Задача 14"
   ]
  },
  {
   "cell_type": "markdown",
   "metadata": {},
   "source": [
    "Дана стрічка. Видаліть з неї всі символи \"а\", а символи \"o\" замініть на \"0\""
   ]
  },
  {
   "cell_type": "code",
   "execution_count": null,
   "metadata": {},
   "outputs": [],
   "source": []
  },
  {
   "cell_type": "markdown",
   "metadata": {},
   "source": [
    "#### Задача 15"
   ]
  },
  {
   "cell_type": "markdown",
   "metadata": {},
   "source": [
    "По данному натуральному n ≤ 9 выведите лесенку из n ступенек, i-я ступенька состоит из чисел от 1 до i без пробелов. https://pythontutor.ru/lessons/for_loop/problems/ladder/"
   ]
  },
  {
   "cell_type": "code",
   "execution_count": null,
   "metadata": {},
   "outputs": [],
   "source": []
  },
  {
   "cell_type": "markdown",
   "metadata": {},
   "source": [
    "#### Задача 16"
   ]
  },
  {
   "cell_type": "markdown",
   "metadata": {},
   "source": [
    "Сума 1500.00 вкладена в банк, річна відсоткова ставка якого становить 4.3 %, і складається щоквартально. Знайти баланс через 6 років."
   ]
  },
  {
   "cell_type": "code",
   "execution_count": null,
   "metadata": {},
   "outputs": [],
   "source": []
  }
 ],
 "metadata": {
  "kernelspec": {
   "display_name": "Python 3",
   "language": "python",
   "name": "python3"
  },
  "language_info": {
   "codemirror_mode": {
    "name": "ipython",
    "version": 3
   },
   "file_extension": ".py",
   "mimetype": "text/x-python",
   "name": "python",
   "nbconvert_exporter": "python",
   "pygments_lexer": "ipython3",
   "version": "3.7.3"
  }
 },
 "nbformat": 4,
 "nbformat_minor": 2
}
