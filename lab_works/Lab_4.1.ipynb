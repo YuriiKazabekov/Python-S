{
 "cells": [
  {
   "cell_type": "code",
   "execution_count": null,
   "metadata": {},
   "outputs": [],
   "source": [
    "import math\n",
    "import sys\n",
    "\n",
    "def year(key):\n",
    "    orbital_radius = (orbital_radius_and_speed[key] [0]) * 1000000 \n",
    "    orbital_speed = (orbital_radius_and_speed[key] [1])\n",
    "    planet_year = int((2 * math.pi * orbital_radius / orbital_speed) / (60 * 60 * 24))\n",
    "    return planet_year\n",
    "\n",
    "orbital_radius_and_speed = {\"Mercury\": [58, 47.87], \"Venus\": [108, 35.02], \"Earth\": [150, 29.78], \"Mars\": [228, 24.13], \"Jupiter\": [778, 13.07], \"Saturn\": [1429, 9.69], \"Uranus\": [2871, 6.81], \"Neptune\": [4504, 5.43]}  # millions of kilometres and kilometers per second\n",
    "\n",
    "key = planet1 = input(\"Input name of first Planet \")\n",
    "year1 = year(key)\n",
    "key = planet2 = input(\"Input name of second Planet \")\n",
    "year2 = year(key)\n",
    "\n",
    "print(\"The year is {} days on {}\".format((year1), planet1))\n",
    "print(\"The year is {} days on {}\".format((year2), planet2))\n",
    "\n",
    "bigger_year = planet1 if year1 > year2 else planet2  \n",
    "print(\"The {} year is bigger\".format(bigger_year))\n",
    "\n",
    "\n"
   ]
  },
  {
   "cell_type": "code",
   "execution_count": null,
   "metadata": {},
   "outputs": [],
   "source": []
  },
  {
   "cell_type": "code",
   "execution_count": null,
   "metadata": {},
   "outputs": [],
   "source": []
  }
 ],
 "metadata": {
  "kernelspec": {
   "display_name": "Python 3",
   "language": "python",
   "name": "python3"
  },
  "language_info": {
   "codemirror_mode": {
    "name": "ipython",
    "version": 3
   },
   "file_extension": ".py",
   "mimetype": "text/x-python",
   "name": "python",
   "nbconvert_exporter": "python",
   "pygments_lexer": "ipython3",
   "version": "3.7.3"
  }
 },
 "nbformat": 4,
 "nbformat_minor": 2
}
