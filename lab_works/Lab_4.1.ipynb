{
 "cells": [
  {
   "cell_type": "code",
   "execution_count": 2,
   "metadata": {},
   "outputs": [
    {
     "name": "stdout",
     "output_type": "stream",
     "text": [
      "Planet 1: Earth\n",
      "Planet 2: Mars\n",
      "The year is 366 days on Earth\n",
      "The year is 687 days on Mars\n",
      "The Mars year is bigger\n"
     ]
    }
   ],
   "source": [
    "import math\n",
    "import sys\n",
    "\n",
    "orbital_radius = {\"Mercury\": 58, \"Venus\": 108, \"Earth\": 150, \"Mars\": 228, \"Jupiter\": 778, \"Saturn\": 1429, \"Uranus\": 2871, \"Neptune\": 4504}  # millions of kilometres\n",
    "orbital_speed = {\"Mercury\": 47.87, \"Venus\": 35.02, \"Earth\": 29.78, \"Mars\": 24.13, \"Jupiter\": 13.07, \"Saturn\": 9.69, \"Uranus\": 6.81, \"Neptune\": 5.43} # kilometres per second\n",
    "\n",
    "planet1 = input(\"Planet 1: \")\n",
    "\n",
    "orbital_radius_1 = orbital_radius[planet1] * 1000000  # turning millions of kilometres to kilometres\n",
    "orbital_speed_1 = orbital_speed[planet1]\n",
    "\n",
    "planet_year1 = 2 * math.pi * orbital_radius_1 / orbital_speed_1\n",
    "planet_year1 = planet_year1 / (60 * 60 * 24) # converting seconds to days\n",
    " \n",
    "planet2 = input(\"Planet 2: \")\n",
    "orbital_radius_2 = orbital_radius[planet2] * 1000000 # turning millions of kilometres to kilometres\n",
    "orbital_speed_2 = orbital_speed[planet2]\n",
    "\n",
    "planet_year2 = 2 * math.pi * orbital_radius_2 / orbital_speed_2\n",
    "planet_year2 = planet_year2 / (60 * 60 * 24) # converting seconds to days \n",
    " \n",
    "print(\"The year is {} days on {}\".format(int(planet_year1), planet1))\n",
    "print(\"The year is {} days on {}\".format(int(planet_year2), planet2))\n",
    "\n",
    "bigger_year = planet1 if planet_year1 > planet_year2 else planet2  # Looking which year is bigger \n",
    "\n",
    "print(\"The {} year is bigger\".format(bigger_year))"
   ]
  },
  {
   "cell_type": "code",
   "execution_count": null,
   "metadata": {},
   "outputs": [],
   "source": [
    "key = \"somekey\"\n",
    "a.setdefault(key, [])\n",
    "a[key].append(2)"
   ]
  },
  {
   "cell_type": "code",
   "execution_count": 35,
   "metadata": {},
   "outputs": [
    {
     "name": "stdout",
     "output_type": "stream",
     "text": [
      "keyVenus\n"
     ]
    },
    {
     "ename": "TypeError",
     "evalue": "'dict' object is not callable",
     "output_type": "error",
     "traceback": [
      "\u001b[1;31m---------------------------------------------------------------------------\u001b[0m",
      "\u001b[1;31mTypeError\u001b[0m                                 Traceback (most recent call last)",
      "\u001b[1;32m<ipython-input-35-d7cc10d1cacb>\u001b[0m in \u001b[0;36m<module>\u001b[1;34m\u001b[0m\n\u001b[0;32m      7\u001b[0m \u001b[0mkey\u001b[0m \u001b[1;33m=\u001b[0m \u001b[0minput\u001b[0m\u001b[1;33m(\u001b[0m\u001b[1;34m\"key\"\u001b[0m\u001b[1;33m)\u001b[0m\u001b[1;33m\u001b[0m\u001b[1;33m\u001b[0m\u001b[0m\n\u001b[0;32m      8\u001b[0m \u001b[1;33m\u001b[0m\u001b[0m\n\u001b[1;32m----> 9\u001b[1;33m \u001b[0mradius\u001b[0m \u001b[1;33m=\u001b[0m \u001b[0morbital_radius_and_speed\u001b[0m\u001b[1;33m(\u001b[0m\u001b[1;33m[\u001b[0m\u001b[0mkey\u001b[0m\u001b[1;33m]\u001b[0m\u001b[1;33m[\u001b[0m\u001b[1;36m0\u001b[0m\u001b[1;33m]\u001b[0m\u001b[1;33m)\u001b[0m\u001b[1;33m\u001b[0m\u001b[1;33m\u001b[0m\u001b[0m\n\u001b[0m\u001b[0;32m     10\u001b[0m \u001b[0morbital_radius\u001b[0m \u001b[1;33m=\u001b[0m \u001b[0mradius\u001b[0m \u001b[1;33m*\u001b[0m \u001b[1;36m1000000\u001b[0m  \u001b[1;31m# turning millions of kilometres to kilometres\u001b[0m\u001b[1;33m\u001b[0m\u001b[1;33m\u001b[0m\u001b[0m\n\u001b[0;32m     11\u001b[0m \u001b[1;33m\u001b[0m\u001b[0m\n",
      "\u001b[1;31mTypeError\u001b[0m: 'dict' object is not callable"
     ]
    }
   ],
   "source": [
    "import math\n",
    "import sys\n",
    "\n",
    "orbital_radius_and_speed = {\"Mercury\": [58, 47.87], \"Venus\": [108, 35.02], \"Earth\": [150, 29.78], \"Mars\": [228, 24.13], \"Jupiter\": [778, 13.07], \"Saturn\": [1429, 9.69], \"Uranus\": [2871, 6.81], \"Neptune\": [4504, 5.43]}  # millions of kilometres and kilometers per second\n",
    "\n",
    "\n",
    "key = input(\"key\")\n",
    "\n",
    "radius = orbital_radius_and_speed([key][0])\n",
    "orbital_radius = radius * 1000000  # turning millions of kilometres to kilometres\n",
    "\n",
    "\n",
    "\n",
    "\n",
    "\n",
    "print(radius)\n",
    "print(orbital_radius)\n",
    "\n",
    "\n",
    "\n",
    "\n"
   ]
  },
  {
   "cell_type": "code",
   "execution_count": 25,
   "metadata": {},
   "outputs": [
    {
     "name": "stdout",
     "output_type": "stream",
     "text": [
      "58\n"
     ]
    }
   ],
   "source": [
    "print(orbital_radius_and_speed[key][0])"
   ]
  },
  {
   "cell_type": "code",
   "execution_count": null,
   "metadata": {},
   "outputs": [],
   "source": [
    "print(orbital_radius_and_speed)\n",
    "print((orbital_radius_and_speed[key][0])\n",
    "                                              "
   ]
  }
 ],
 "metadata": {
  "kernelspec": {
   "display_name": "Python 3",
   "language": "python",
   "name": "python3"
  },
  "language_info": {
   "codemirror_mode": {
    "name": "ipython",
    "version": 3
   },
   "file_extension": ".py",
   "mimetype": "text/x-python",
   "name": "python",
   "nbconvert_exporter": "python",
   "pygments_lexer": "ipython3",
   "version": "3.7.3"
  }
 },
 "nbformat": 4,
 "nbformat_minor": 2
}
