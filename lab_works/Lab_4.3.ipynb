{
 "cells": [
  {
   "cell_type": "markdown",
   "metadata": {},
   "source": [
    "Create a function with default arguments and arguments unpack:\n",
    "• Create string variable word\n",
    "• Create dictionary variable ids\n",
    "• Create function that include at least 2 arguments word and name\n",
    "from ids dictionary\n",
    "• Function also should have one default argument age\n",
    "• If additional arguments will added to function call it should work\n",
    "properly\n",
    "• During first function calling use unpack arguments from dictionary\n",
    "ids\n",
    "• During second call use ids key value and some range of values\n",
    "\n",
    "\n",
    "\n",
    "Find Lab_4_3_arguments attached.\n",
    "• Create variable word with data “Found name”\n",
    "• Create dictionary with data keys name and age, set any values\n",
    "• Define function with 2 arguments , one arguments collection args\n",
    "and default argument age\n",
    "• Print separately:\n",
    "o word and name arguments\n",
    "o “Age:” , age\n",
    "o Collected arguments\n",
    "• Call function with arguments word and ids dictionary unpack into\n",
    "function arguments.\n",
    "• Call function with arguments word, ids key name and unpack into\n",
    "arguments list with number values from 0 to 9.\n"
   ]
  },
  {
   "cell_type": "code",
   "execution_count": 1,
   "metadata": {},
   "outputs": [
    {
     "name": "stdout",
     "output_type": "stream",
     "text": [
      "Found name: Alice\n",
      "Age: 27\n",
      "()\n",
      "Found name: Alice\n",
      "Age: None\n",
      "(0, 1, 2, 3, 4, 5, 6, 7, 8, 9)\n"
     ]
    }
   ],
   "source": [
    "word = 'Found name:'  # String variable\n",
    "ids = {'name':\"Alice\", 'age':27}  # Dict with user data\n",
    "\n",
    "def intersection(word,name,*args,age=None): \n",
    "    print(word, name) # word and name neccessary arguments\n",
    "    print('Age:',age) # age argument at the end of function arguments set\n",
    "    print(args)       # collecting any arguments into one tuple\n",
    "\n",
    "intersection(word, **ids)  # call function with word and ids data unpack\n",
    "intersection(word, ids['name'], *list(range(10)))# call function with word and ids data and some list unpack"
   ]
  },
  {
   "cell_type": "code",
   "execution_count": null,
   "metadata": {},
   "outputs": [],
   "source": []
  }
 ],
 "metadata": {
  "kernelspec": {
   "display_name": "Python 3",
   "language": "python",
   "name": "python3"
  },
  "language_info": {
   "codemirror_mode": {
    "name": "ipython",
    "version": 3
   },
   "file_extension": ".py",
   "mimetype": "text/x-python",
   "name": "python",
   "nbconvert_exporter": "python",
   "pygments_lexer": "ipython3",
   "version": "3.7.3"
  }
 },
 "nbformat": 4,
 "nbformat_minor": 2
}
