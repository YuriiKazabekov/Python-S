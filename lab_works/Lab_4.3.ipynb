{
 "cells": [
  {
   "cell_type": "code",
   "execution_count": 6,
   "metadata": {},
   "outputs": [
    {
     "name": "stdout",
     "output_type": "stream",
     "text": [
      "Hello Yurii! Are you 28 years old?\n",
      "Yurii\n",
      "Age: 28\n",
      "()\n",
      "Hello Yurii! Are you None years old?\n",
      "Yurii\n",
      "Age: None\n",
      "([0, 1, 2, 3, 4, 5, 6, 7, 8, 9],)\n"
     ]
    }
   ],
   "source": [
    "word = 'Hello'\n",
    "ids = {'name':'Yurii','age':28}\n",
    "\n",
    "def funck(word,name,*args,age=None): \n",
    "    print(\"{0} {1}! Are you {2} years old?\".format(word,name,age))\n",
    "    print(name)\n",
    "    print('Age:',age)\n",
    "    print(args)\n",
    "    \n",
    "funck(word, **ids)  # call function with word and ids data unpack\n",
    "funck(word, ids['name'],list(range(10)))"
   ]
  }
 ],
 "metadata": {
  "kernelspec": {
   "display_name": "Python 3",
   "language": "python",
   "name": "python3"
  },
  "language_info": {
   "codemirror_mode": {
    "name": "ipython",
    "version": 3
   },
   "file_extension": ".py",
   "mimetype": "text/x-python",
   "name": "python",
   "nbconvert_exporter": "python",
   "pygments_lexer": "ipython3",
   "version": "3.7.3"
  }
 },
 "nbformat": 4,
 "nbformat_minor": 2
}
