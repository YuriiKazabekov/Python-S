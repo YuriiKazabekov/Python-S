{
 "cells": [
  {
   "cell_type": "code",
   "execution_count": 2,
   "metadata": {},
   "outputs": [
    {
     "data": {
      "text/plain": [
       "<function __main__.decorator.<locals>.my_decor(file, data_lst)>"
      ]
     },
     "execution_count": 2,
     "metadata": {},
     "output_type": "execute_result"
    }
   ],
   "source": [
    "data_lst = [\"user=\", \"password=\", \"privellege=\", \"idle_time=\", \"max_size=\"]  \n",
    "        \n",
    "def decorator(func):\n",
    "    def my_decor(file, data_lst):\n",
    "        data_file = open(\"config.data\", \"r+\")\n",
    "        func(data_file, data_lst)\n",
    "        data_file.close()\n",
    "    return my_decor    \n",
    "\n",
    "@decorator\n",
    "def writeConfig(file, data_lst):\n",
    "    if \"Configuration file! Do not modify!\" in file.read():\n",
    "        file.close()\n",
    "    else:\n",
    "        file.write(\"Configuration file! Do not modify!\\n\"+('\\n'.join(data)))   \n",
    "        \n",
    "decorator(writeConfig)"
   ]
  },
  {
   "cell_type": "code",
   "execution_count": null,
   "metadata": {},
   "outputs": [],
   "source": [
    "\n",
    "\n",
    "\n",
    "\n",
    "\n",
    "\n",
    "\n",
    "\n",
    "\n",
    "\n",
    "\n",
    "\n",
    "\n",
    "\n",
    "\n",
    "\n",
    "\n",
    "\n",
    "\n",
    "\n",
    "\n",
    "\n",
    "\n",
    "\n",
    "\n",
    "\n",
    "\n",
    "\n",
    "\n",
    "\n",
    "\n"
   ]
  },
  {
   "cell_type": "code",
   "execution_count": 8,
   "metadata": {},
   "outputs": [],
   "source": [
    "data_lst = [\"index.php\", \"main.py\", \"__init__.py\", \"core.py\", \"data.bin\"]\n",
    "\n",
    "def mydecor(func):\n",
    "    def my_decor(item):\n",
    "        data_file = open(\"config.data\", \"r+\")\n",
    "        func(data_file, item)\n",
    "        data_file.close()\n",
    "    return my_decor\n",
    "        \n",
    "\n",
    "@mydecor\n",
    "def writeConfig(file, line):   # Define function in step 3\n",
    "    if \"Configuration file! Do not modify!\" in file.read():\n",
    "        file.write(\"%s;\\n\"%(line))\n",
    "    else:\n",
    "        file.write(\"Configuration file! Do not modify!\\n\"+\\\n",
    "                   \"%s;\\n\"%(line))\n",
    "\t\t\n",
    "for item in data_lst:\n",
    "    writeConfig(item)\n"
   ]
  },
  {
   "cell_type": "code",
   "execution_count": null,
   "metadata": {},
   "outputs": [],
   "source": []
  }
 ],
 "metadata": {
  "kernelspec": {
   "display_name": "Python 3",
   "language": "python",
   "name": "python3"
  },
  "language_info": {
   "codemirror_mode": {
    "name": "ipython",
    "version": 3
   },
   "file_extension": ".py",
   "mimetype": "text/x-python",
   "name": "python",
   "nbconvert_exporter": "python",
   "pygments_lexer": "ipython3",
   "version": "3.7.3"
  }
 },
 "nbformat": 4,
 "nbformat_minor": 2
}
