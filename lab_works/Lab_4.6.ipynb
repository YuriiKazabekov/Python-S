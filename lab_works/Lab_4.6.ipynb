{
 "cells": [
  {
   "cell_type": "code",
   "execution_count": 1,
   "metadata": {},
   "outputs": [],
   "source": [
    "data_lst = [\"index.php\", \"main.py\", \"__init__.py\", \"core.py\", \"data.bin\"]\n",
    "\n",
    "def mydecor(func):\n",
    "    def my_decor(item):\n",
    "        data_file = open(\"config.data\", \"r+\")\n",
    "        func(data_file, item)\n",
    "        data_file.close()\n",
    "    return my_decor\n",
    "        \n",
    "\n",
    "@mydecor\n",
    "def writeConfig(file, line):  \n",
    "    if \"Configuration file! Do not modify!\" in file.read():\n",
    "        file.close()\n",
    "    else:\n",
    "        file.write(\"Configuration file! Do not modify!\\n\"+('\\n'.join(data)))   \n",
    "        \n",
    "\n",
    "for item in data_lst:\n",
    "    writeConfig(item)"
   ]
  },
  {
   "cell_type": "code",
   "execution_count": null,
   "metadata": {},
   "outputs": [],
   "source": []
  }
 ],
 "metadata": {
  "kernelspec": {
   "display_name": "Python 3",
   "language": "python",
   "name": "python3"
  },
  "language_info": {
   "codemirror_mode": {
    "name": "ipython",
    "version": 3
   },
   "file_extension": ".py",
   "mimetype": "text/x-python",
   "name": "python",
   "nbconvert_exporter": "python",
   "pygments_lexer": "ipython3",
   "version": "3.7.3"
  }
 },
 "nbformat": 4,
 "nbformat_minor": 2
}
