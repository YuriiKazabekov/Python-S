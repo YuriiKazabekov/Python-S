{
 "cells": [
  {
   "cell_type": "code",
   "execution_count": 12,
   "metadata": {},
   "outputs": [
    {
     "name": "stdout",
     "output_type": "stream",
     "text": [
      "[1, 3, 5]\n",
      "<filter object at 0x000002705F9DA4A8>\n",
      "<class 'filter'>\n",
      "[1, 3, 5]\n"
     ]
    }
   ],
   "source": [
    "\"\"\"\n",
    "foo = [1, 2, 3, 4, 5]\n",
    "odd_foo = []\n",
    "def isOdd(x):\n",
    "    return x % 2 == 1\n",
    "for f in foo:\n",
    "    if isOdd(f):\n",
    "        odd_foo.append(f)\n",
    "print (odd_foo)\n",
    "\"\"\"\n",
    "foo = [1, 2, 3, 4, 5]\n",
    "odd_foo1 = [x for x in foo if x % 2 == 1] \n",
    "print(odd_foo1)\n",
    "odd_foo2 = filter(lambda x: x % 2 == 1, foo)\n",
    "print(odd_foo2)\n",
    "print(type(odd_foo2))\n",
    "print(list(odd_foo2))\n",
    "\n"
   ]
  }
 ],
 "metadata": {
  "kernelspec": {
   "display_name": "Python 3",
   "language": "python",
   "name": "python3"
  },
  "language_info": {
   "codemirror_mode": {
    "name": "ipython",
    "version": 3
   },
   "file_extension": ".py",
   "mimetype": "text/x-python",
   "name": "python",
   "nbconvert_exporter": "python",
   "pygments_lexer": "ipython3",
   "version": "3.7.3"
  }
 },
 "nbformat": 4,
 "nbformat_minor": 2
}
