{
 "cells": [
  {
   "cell_type": "code",
   "execution_count": 1,
   "metadata": {},
   "outputs": [
    {
     "name": "stdout",
     "output_type": "stream",
     "text": [
      "Input name of first Planet Mercury\n",
      "Input name of second Planet Mars\n",
      "The year is 88 days on Mercury\n",
      "The year is 687 days on Mars\n",
      "The Mars year is bigger\n"
     ]
    }
   ],
   "source": [
    "#Lab 4.1\n",
    "import math\n",
    "import sys\n",
    "\n",
    "def year(key):\n",
    "    orbital_radius = (orbital_radius_and_speed[key] [0]) * 1000000 \n",
    "    orbital_speed = (orbital_radius_and_speed[key] [1])\n",
    "    planet_year = int((2 * math.pi * orbital_radius / orbital_speed) / (60 * 60 * 24))\n",
    "    return planet_year\n",
    "\n",
    "orbital_radius_and_speed = {\"Mercury\": [58, 47.87], \"Venus\": [108, 35.02], \"Earth\": [150, 29.78], \"Mars\": [228, 24.13], \"Jupiter\": [778, 13.07], \"Saturn\": [1429, 9.69], \"Uranus\": [2871, 6.81], \"Neptune\": [4504, 5.43]}  # millions of kilometres and kilometers per second\n",
    "\n",
    "key = planet1 = input(\"Input name of first Planet \")\n",
    "year1 = year(key)\n",
    "key = planet2 = input(\"Input name of second Planet \")\n",
    "year2 = year(key)\n",
    "\n",
    "print(\"The year is {} days on {}\".format((year1), planet1))\n",
    "print(\"The year is {} days on {}\".format((year2), planet2))\n",
    "\n",
    "bigger_year = planet1 if year1 > year2 else planet2  \n",
    "print(\"The {} year is bigger\".format(bigger_year))\n",
    "\n",
    "\n"
   ]
  },
  {
   "cell_type": "code",
   "execution_count": 2,
   "metadata": {},
   "outputs": [
    {
     "name": "stdout",
     "output_type": "stream",
     "text": [
      "[0, 2, 4, 6, 8]\n",
      "[] список пустий тому що ми записуемо результат в локальну змінну\n"
     ]
    }
   ],
   "source": [
    "#Lab 4.2\n",
    "numbers1 = list(range(0,10))  \n",
    "numbers2 = list(range(0,10,2))  \n",
    "result = [] \n",
    "\n",
    "def intersection(numbers1, numbers2):\n",
    "    result = [] \n",
    "    for i in numbers1: \n",
    "        if i in numbers2: \n",
    "            result.append(i)\n",
    "    return result\n",
    "\n",
    "print(intersection(numbers1, numbers2))\n",
    "print(result, \"список пустий тому що ми записуемо результат в локальну змінну\")"
   ]
  },
  {
   "cell_type": "code",
   "execution_count": 3,
   "metadata": {},
   "outputs": [
    {
     "name": "stdout",
     "output_type": "stream",
     "text": [
      "Hello Yurii! Are you 28 years old?\n",
      "Yurii\n",
      "Age: 28\n",
      "()\n",
      "Hello Yurii! Are you None years old?\n",
      "Yurii\n",
      "Age: None\n",
      "([0, 1, 2, 3, 4, 5, 6, 7, 8, 9],)\n"
     ]
    }
   ],
   "source": [
    "#Lab 4.3\n",
    "word = 'Hello'\n",
    "ids = {'name':'Yurii','age':28}\n",
    "\n",
    "def funck(word,name,*args,age=None): \n",
    "    print(\"{0} {1}! Are you {2} years old?\".format(word,name,age))\n",
    "    print(name)\n",
    "    print('Age:',age)\n",
    "    print(args)\n",
    "    \n",
    "funck(word, **ids) \n",
    "funck(word, ids['name'],list(range(10)))"
   ]
  },
  {
   "cell_type": "code",
   "execution_count": 6,
   "metadata": {},
   "outputs": [
    {
     "name": "stdout",
     "output_type": "stream",
     "text": [
      "[1, 3, 5]\n",
      "<filter object at 0x000002B680F86080>\n",
      "[1, 3, 5]\n"
     ]
    }
   ],
   "source": [
    "#Lab 4.4\n",
    "\"\"\"\n",
    "foo = [1, 2, 3, 4, 5]\n",
    "odd_foo = []\n",
    "def isOdd(x):\n",
    "    return x % 2 == 1\n",
    "for f in foo:\n",
    "    if isOdd(f):\n",
    "        odd_foo.append(f)\n",
    "print (odd_foo)\n",
    "\"\"\"\n",
    "foo = [1, 2, 3, 4, 5]\n",
    "odd_foo1 = [x for x in foo if x % 2 == 1] \n",
    "print(odd_foo1)\n",
    "odd_foo2 = filter(lambda x: x % 2 == 1, foo)\n",
    "print(odd_foo2)\n",
    "print(list(odd_foo2))"
   ]
  },
  {
   "cell_type": "code",
   "execution_count": 7,
   "metadata": {},
   "outputs": [
    {
     "name": "stdout",
     "output_type": "stream",
     "text": [
      "(1, 1)\n",
      "(2, 2)\n",
      "(3, 3)\n",
      "(4, 4)\n",
      "(5, 5)\n",
      "(1, 'a')\n",
      "(2, 'b')\n",
      "(3, 'c')\n",
      "(4, 'd')\n",
      "(5, 'e')\n"
     ]
    }
   ],
   "source": [
    "#Lab 4.5\n",
    "def enumerator(listname):\n",
    "    n = 0\n",
    "    for i in listname:\n",
    "        yield n+1, i\n",
    "        n = n + 1\n",
    "        \n",
    "list1 = [1,2,3,4,5]     \n",
    "list2 = ['a','b','c','d','e']\n",
    "\n",
    "#Index+1 for list with numbers\n",
    "for item in enumerator(list1):\n",
    "    print(item)\n",
    "#Index+1 for list with letters\n",
    "for item in enumerator(list2):\n",
    "    print(item)"
   ]
  },
  {
   "cell_type": "code",
   "execution_count": 1,
   "metadata": {},
   "outputs": [],
   "source": [
    "data_lst = [\"index.php\", \"main.py\", \"__init__.py\", \"core.py\", \"data.bin\"]\n",
    "\n",
    "def mydecor(func):\n",
    "    def my_decor(item):\n",
    "        data_file = open(\"config.data\", \"r+\")\n",
    "        func(data_file, item)\n",
    "        data_file.close()\n",
    "    return my_decor\n",
    "        \n",
    "\n",
    "@mydecor\n",
    "def writeConfig(file, line):  \n",
    "    if \"Configuration file! Do not modify!\" in file.read():\n",
    "        file.close()\n",
    "    else:\n",
    "        file.write(\"Configuration file! Do not modify!\\n\"+('\\n'.join(data)))   \n",
    "        \n",
    "\n",
    "for item in data_lst:\n",
    "    writeConfig(item)\n"
   ]
  },
  {
   "cell_type": "code",
   "execution_count": null,
   "metadata": {},
   "outputs": [],
   "source": []
  }
 ],
 "metadata": {
  "kernelspec": {
   "display_name": "Python 3",
   "language": "python",
   "name": "python3"
  },
  "language_info": {
   "codemirror_mode": {
    "name": "ipython",
    "version": 3
   },
   "file_extension": ".py",
   "mimetype": "text/x-python",
   "name": "python",
   "nbconvert_exporter": "python",
   "pygments_lexer": "ipython3",
   "version": "3.7.3"
  }
 },
 "nbformat": 4,
 "nbformat_minor": 2
}
