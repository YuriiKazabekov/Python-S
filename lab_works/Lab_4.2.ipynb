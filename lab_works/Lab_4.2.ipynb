{
 "cells": [
  {
   "cell_type": "code",
   "execution_count": 12,
   "metadata": {},
   "outputs": [
    {
     "name": "stdout",
     "output_type": "stream",
     "text": [
      "[0, 2, 4, 6, 8]\n",
      "[] список пустий тому що ми записуемо результат в локальну змінну\n"
     ]
    }
   ],
   "source": [
    "\n",
    "numbers1 = list(range(0,10))  \n",
    "numbers2 = list(range(0,10,2))  \n",
    "result = [] \n",
    "\n",
    "def intersection(numbers1, numbers2):\n",
    "    result = [] \n",
    "    for i in numbers1: \n",
    "        if i in numbers2: \n",
    "            result.append(i)\n",
    "    return result\n",
    "\n",
    "print(intersection(numbers1, numbers2))\n",
    "print(result, \"список пустий тому що ми записуемо результат в локальну змінну\")"
   ]
  }
 ],
 "metadata": {
  "kernelspec": {
   "display_name": "Python 3",
   "language": "python",
   "name": "python3"
  },
  "language_info": {
   "codemirror_mode": {
    "name": "ipython",
    "version": 3
   },
   "file_extension": ".py",
   "mimetype": "text/x-python",
   "name": "python",
   "nbconvert_exporter": "python",
   "pygments_lexer": "ipython3",
   "version": "3.7.3"
  }
 },
 "nbformat": 4,
 "nbformat_minor": 2
}
