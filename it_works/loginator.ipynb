{
 "cells": [
  {
   "cell_type": "code",
   "execution_count": 2,
   "metadata": {},
   "outputs": [
    {
     "name": "stdout",
     "output_type": "stream",
     "text": [
      "Натисніть 1 для входу\n",
      "Натисніть 2 для реєстрації\n",
      "Натисніть 3 для виходу\n",
      "2\n",
      "Введіть логін для реєстрації \n",
      "user3 345\n",
      "Введіть пароль для реєстрації \n",
      "345\n",
      "Введіть пароль для реєстрації ще раз \n",
      "345\n",
      "Тепер ви можете ввійти\n"
     ]
    },
    {
     "ename": "ValueError",
     "evalue": "too many values to unpack (expected 2)",
     "output_type": "error",
     "traceback": [
      "\u001b[1;31m---------------------------------------------------------------------------\u001b[0m",
      "\u001b[1;31mValueError\u001b[0m                                Traceback (most recent call last)",
      "\u001b[1;32m<ipython-input-2-24d02d3f23e1>\u001b[0m in \u001b[0;36m<module>\u001b[1;34m\u001b[0m\n\u001b[0;32m     65\u001b[0m \u001b[1;33m\u001b[0m\u001b[0m\n\u001b[0;32m     66\u001b[0m \u001b[1;33m\u001b[0m\u001b[0m\n\u001b[1;32m---> 67\u001b[1;33m \u001b[0mmenu\u001b[0m\u001b[1;33m(\u001b[0m\u001b[1;33m)\u001b[0m\u001b[1;33m\u001b[0m\u001b[1;33m\u001b[0m\u001b[0m\n\u001b[0m",
      "\u001b[1;32m<ipython-input-2-24d02d3f23e1>\u001b[0m in \u001b[0;36mmenu\u001b[1;34m()\u001b[0m\n\u001b[0;32m      9\u001b[0m             \u001b[1;32mbreak\u001b[0m\u001b[1;33m\u001b[0m\u001b[1;33m\u001b[0m\u001b[0m\n\u001b[0;32m     10\u001b[0m         \u001b[1;32mif\u001b[0m \u001b[0ma\u001b[0m \u001b[1;33m==\u001b[0m \u001b[1;36m2\u001b[0m\u001b[1;33m:\u001b[0m\u001b[1;33m\u001b[0m\u001b[1;33m\u001b[0m\u001b[0m\n\u001b[1;32m---> 11\u001b[1;33m             \u001b[0mregistration\u001b[0m\u001b[1;33m(\u001b[0m\u001b[1;33m)\u001b[0m\u001b[1;33m\u001b[0m\u001b[1;33m\u001b[0m\u001b[0m\n\u001b[0m\u001b[0;32m     12\u001b[0m             \u001b[1;32mbreak\u001b[0m\u001b[1;33m\u001b[0m\u001b[1;33m\u001b[0m\u001b[0m\n\u001b[0;32m     13\u001b[0m         \u001b[1;32mif\u001b[0m \u001b[0ma\u001b[0m \u001b[1;33m==\u001b[0m \u001b[1;36m3\u001b[0m\u001b[1;33m:\u001b[0m\u001b[1;33m\u001b[0m\u001b[1;33m\u001b[0m\u001b[0m\n",
      "\u001b[1;32m<ipython-input-2-24d02d3f23e1>\u001b[0m in \u001b[0;36mregistration\u001b[1;34m()\u001b[0m\n\u001b[0;32m     62\u001b[0m         \u001b[0mmyfile\u001b[0m\u001b[1;33m.\u001b[0m\u001b[0mwrite\u001b[0m\u001b[1;33m(\u001b[0m\u001b[0mnew_user\u001b[0m\u001b[1;33m)\u001b[0m\u001b[1;33m\u001b[0m\u001b[1;33m\u001b[0m\u001b[0m\n\u001b[0;32m     63\u001b[0m     \u001b[0mprint\u001b[0m\u001b[1;33m(\u001b[0m\u001b[1;34m'Тепер ви можете ввійти'\u001b[0m\u001b[1;33m)\u001b[0m\u001b[1;33m\u001b[0m\u001b[1;33m\u001b[0m\u001b[0m\n\u001b[1;32m---> 64\u001b[1;33m     \u001b[0mlogin\u001b[0m\u001b[1;33m(\u001b[0m\u001b[1;33m)\u001b[0m\u001b[1;33m\u001b[0m\u001b[1;33m\u001b[0m\u001b[0m\n\u001b[0m\u001b[0;32m     65\u001b[0m \u001b[1;33m\u001b[0m\u001b[0m\n\u001b[0;32m     66\u001b[0m \u001b[1;33m\u001b[0m\u001b[0m\n",
      "\u001b[1;32m<ipython-input-2-24d02d3f23e1>\u001b[0m in \u001b[0;36mlogin\u001b[1;34m()\u001b[0m\n\u001b[0;32m     22\u001b[0m     \u001b[0mnew_dict\u001b[0m \u001b[1;33m=\u001b[0m\u001b[1;33m{\u001b[0m\u001b[1;33m}\u001b[0m\u001b[1;33m\u001b[0m\u001b[1;33m\u001b[0m\u001b[0m\n\u001b[0;32m     23\u001b[0m     \u001b[1;32mfor\u001b[0m \u001b[0mi\u001b[0m \u001b[1;32min\u001b[0m \u001b[0mdata\u001b[0m\u001b[1;33m:\u001b[0m\u001b[1;33m\u001b[0m\u001b[1;33m\u001b[0m\u001b[0m\n\u001b[1;32m---> 24\u001b[1;33m         \u001b[0ma\u001b[0m\u001b[1;33m,\u001b[0m \u001b[0mb\u001b[0m\u001b[1;33m=\u001b[0m \u001b[0mi\u001b[0m\u001b[1;33m.\u001b[0m\u001b[0msplit\u001b[0m\u001b[1;33m(\u001b[0m\u001b[1;33m)\u001b[0m\u001b[1;33m\u001b[0m\u001b[1;33m\u001b[0m\u001b[0m\n\u001b[0m\u001b[0;32m     25\u001b[0m         \u001b[1;31m#add log and pass in 2 lists\u001b[0m\u001b[1;33m\u001b[0m\u001b[1;33m\u001b[0m\u001b[1;33m\u001b[0m\u001b[0m\n\u001b[0;32m     26\u001b[0m         \u001b[0mlog\u001b[0m\u001b[1;33m.\u001b[0m\u001b[0mappend\u001b[0m\u001b[1;33m(\u001b[0m\u001b[0ma\u001b[0m\u001b[1;33m)\u001b[0m\u001b[1;33m\u001b[0m\u001b[1;33m\u001b[0m\u001b[0m\n",
      "\u001b[1;31mValueError\u001b[0m: too many values to unpack (expected 2)"
     ]
    }
   ],
   "source": [
    "def menu():\n",
    "    while True:\n",
    "        print('''Натисніть 1 для входу\n",
    "Натисніть 2 для реєстрації\n",
    "Натисніть 3 для виходу''')\n",
    "        a = int(input())\n",
    "        if a == 1:\n",
    "            login()\n",
    "            break\n",
    "        if a == 2:\n",
    "            registration()\n",
    "            break\n",
    "        if a == 3:\n",
    "            break\n",
    "                    \n",
    "            \n",
    "def login():\n",
    "    with open('lp.txt', 'r+') as lp:\n",
    "        data = lp.readlines()\n",
    "    log = []\n",
    "    pas = []\n",
    "    new_dict ={}\n",
    "    for i in data:\n",
    "        a, b= i.split()\n",
    "        #add log and pass in 2 lists\n",
    "        log.append(a)\n",
    "        pas.append(b)\n",
    "\n",
    "    if True:\n",
    "        logg = input('Введіть логін')\n",
    "        if logg in log:\n",
    "            index_for_pass = log.index(logg)\n",
    "            passs = input('Введіть пароль \\n')\n",
    "            if passs == pas[index_for_pass]:\n",
    "                print('Ви ввійшли')\n",
    "                return True\n",
    "            else:\n",
    "                print('Спробуйте ще')\n",
    "        else:\n",
    "            print('Спробуйте ще')\n",
    "            logg = input('Введіть логін')\n",
    "            if logg in log:\n",
    "                index_for_pass = log.index(logg)\n",
    "                passs = input('Введіть пароль \\n')\n",
    "                if passs == pas[index_for_pass]:\n",
    "                    print('Ви ввійшли')\n",
    "                    return True\n",
    "            else:\n",
    "                print('В доступі відмовлено')\n",
    " \n",
    "       \n",
    "    \n",
    "def registration():\n",
    "    with open('lp.txt', 'r+') as lp:\n",
    "        data = lp.readlines()\n",
    "    new_login = input('Введіть логін для реєстрації \\n')\n",
    "    new_password = input('Введіть пароль для реєстрації \\n')\n",
    "    new_password2 = input('Введіть пароль для реєстрації ще раз \\n')\n",
    "    if new_password == new_password2:\n",
    "        new_user = str((new_login+\" \"+new_password2+\"\\n\"))\n",
    "    with open(\"lp.txt\", \"a\") as myfile:\n",
    "        myfile.write(new_user)\n",
    "    print('Тепер ви можете ввійти')\n",
    "    login()    \n",
    "    \n",
    "\n",
    "menu()"
   ]
  },
  {
   "cell_type": "code",
   "execution_count": null,
   "metadata": {},
   "outputs": [],
   "source": []
  },
  {
   "cell_type": "code",
   "execution_count": null,
   "metadata": {},
   "outputs": [],
   "source": []
  }
 ],
 "metadata": {
  "kernelspec": {
   "display_name": "Python 3",
   "language": "python",
   "name": "python3"
  }
 },
 "nbformat": 4,
 "nbformat_minor": 2
}
