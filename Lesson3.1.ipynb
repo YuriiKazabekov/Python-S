{
 "cells": [
  {
   "cell_type": "markdown",
   "metadata": {},
   "source": [
    "# Урок №3.1. Управління потоками"
   ]
  },
  {
   "cell_type": "markdown",
   "metadata": {},
   "source": [
    "## Task"
   ]
  },
  {
   "cell_type": "markdown",
   "metadata": {},
   "source": [
    "*В математике функция `sign(x)` (знак числа) определена так: \n",
    "`sign(x) = 1`, если x > 0, \n",
    "`sign(x) = -1`, если x < 0, \n",
    "`sign(x) = 0`, если x = 0.\n",
    "Для данного числа x выведите значение `sign(x)`"
   ]
  },
  {
   "cell_type": "code",
   "execution_count": null,
   "metadata": {},
   "outputs": [],
   "source": [
    "import random\n",
    "a = random.randint(-100, 100)\n",
    "if a > 0:\n",
    "    print (f'sign({a}) = 1')\n",
    "elif a ==0:\n",
    "    print (f'sign({a}) = 0')\n",
    "else:\n",
    "    print (f'sign({a}) = -1')"
   ]
  },
  {
   "cell_type": "markdown",
   "metadata": {},
   "source": [
    "*Заданы две клетки шахматной доски. Если они покрашены в один цвет, то выведите слово YES, а если в разные цвета — то NO. Программа получает на вход четыре числа от 1 до 8 каждое, задающие номер столбца и номер строки сначала для первой клетки, потом для второй клетки."
   ]
  },
  {
   "cell_type": "code",
   "execution_count": null,
   "metadata": {},
   "outputs": [],
   "source": [
    "x1 = int(input())\n",
    "\n",
    "y1 = int(input())\n",
    "\n",
    "x2 = int(input())\n",
    "\n",
    "y2 = int(input())\n",
    "\n",
    "if (x1+y1)%2 == (x2+y2)%2:\n",
    "    print(\"Однакові\")\n",
    "else:\n",
    "    print(\"Різні\")"
   ]
  },
  {
   "cell_type": "markdown",
   "metadata": {},
   "source": [
    "*Даны три целых числа. Определите, сколько среди них совпадающих. Программа должна вывести одно из чисел: 3 (если все совпадают), 2 (если два совпадает) или 0 (если все числа различны)."
   ]
  },
  {
   "cell_type": "code",
   "execution_count": null,
   "metadata": {},
   "outputs": [],
   "source": [
    "a = int(input())\n",
    "b = int(input())\n",
    "c = int(input())\n",
    "if a == b == c:\n",
    "    print(\"3\")\n",
    "elif a == b or b == c or a ==c :\n",
    "    print(\"2\")\n",
    "else:\n",
    "    print(\"0\")"
   ]
  },
  {
   "cell_type": "markdown",
   "metadata": {},
   "source": [
    "*Даны два целых числа A и B (при этом A ≤ B). Выведите все числа от A до B включительно."
   ]
  },
  {
   "cell_type": "code",
   "execution_count": null,
   "metadata": {},
   "outputs": [],
   "source": [
    "print('Введіть число а')\n",
    "a = int(input())\n",
    "print('Введіть число b')\n",
    "b = int(input())\n",
    "\n",
    "if a<=b:\n",
    "    i = a\n",
    "    print(i)\n",
    "    while i < b:\n",
    "        i += 1\n",
    "        print(i)\n",
    "else:\n",
    "    print('Введено невірні числа')"
   ]
  },
  {
   "cell_type": "markdown",
   "metadata": {},
   "source": [
    "*По данному натуральному n вычислите сумму 1^3+2^3+3^3+...+n^3."
   ]
  },
  {
   "cell_type": "code",
   "execution_count": 1,
   "metadata": {},
   "outputs": [
    {
     "name": "stdout",
     "output_type": "stream",
     "text": [
      "Введіть число n\n",
      "3\n",
      "36\n"
     ]
    }
   ],
   "source": [
    "print('Введіть число n')\n",
    "n = int(input())\n",
    "sum = 0\n",
    "for i in range(1, n + 1):\n",
    "    sum = sum + i ** 3\n",
    "print(sum)"
   ]
  },
  {
   "cell_type": "markdown",
   "metadata": {},
   "source": [
    "*Факториалом числа n называется произведение 1 × 2 × ... × n. Обозначение: n!.\n",
    "По данному натуральному n вычислите значение n!. Пользоваться математической библиотекой math в этой задаче запрещено."
   ]
  },
  {
   "cell_type": "code",
   "execution_count": null,
   "metadata": {},
   "outputs": [],
   "source": [
    "dob = 1\n",
    "n = int(input())\n",
    "for i in range (1, n+1):\n",
    "    dob = dob * i\n",
    "print(dob)"
   ]
  },
  {
   "cell_type": "markdown",
   "metadata": {},
   "source": [
    "*По данному натуральному числу N найдите наибольшую целую степень двойки, не превосходящую N. Выведите показатель степени и саму степень.\n",
    "\n",
    "Операцией возведения в степень пользоваться нельзя!"
   ]
  },
  {
   "cell_type": "code",
   "execution_count": null,
   "metadata": {},
   "outputs": [],
   "source": []
  },
  {
   "cell_type": "markdown",
   "metadata": {},
   "source": [
    "**По данному натуральном n вычислите сумму 1!+2!+3!+...+n!. В решении этой задачи можно использовать только один цикл. Пользоваться математической библиотекой math в этой задаче запрещено."
   ]
  },
  {
   "cell_type": "code",
   "execution_count": 6,
   "metadata": {},
   "outputs": [
    {
     "name": "stdout",
     "output_type": "stream",
     "text": [
      "Введіть число n\n",
      "4\n",
      "33\n"
     ]
    }
   ],
   "source": [
    "print('Введіть число n')\n",
    "dob = 1\n",
    "sum = 0\n",
    "n = int(input())\n",
    "for i in range(1, n + 1):\n",
    "    dob *= i\n",
    "    sum += dob\n",
    "print(sum)"
   ]
  },
  {
   "cell_type": "markdown",
   "metadata": {},
   "source": [
    "***Для настольной игры используются карточки с номерами от 1 до N. Одна карточка потерялась. Найдите ее, зная номера оставшихся карточек.\n",
    "Дано число N, далее N − 1 номер оставшихся карточек (различные числа от 1 до N). Программа должна вывести номер потерянной карточки."
   ]
  },
  {
   "cell_type": "code",
   "execution_count": 10,
   "metadata": {},
   "outputs": [
    {
     "name": "stdout",
     "output_type": "stream",
     "text": [
      "Введіть кількість карточок\n",
      "5\n",
      "Введіть номер картки\n",
      "1\n",
      "Введіть номер картки\n",
      "2\n",
      "Введіть номер картки\n",
      "3\n",
      "Введіть номер картки\n",
      "5\n",
      "4\n"
     ]
    }
   ],
   "source": [
    "print('Введіть кількість карточок')\n",
    "n=int(input())\n",
    "s=0\n",
    "for i in range(1,n+1):\n",
    "    s+=i\n",
    "for i in range(n-1):\n",
    "    print('Введіть номер картки')\n",
    "    x=int(input())\n",
    "    s-=x\n",
    "print(s)"
   ]
  },
  {
   "cell_type": "code",
   "execution_count": null,
   "metadata": {},
   "outputs": [],
   "source": []
  }
 ],
 "metadata": {
  "kernelspec": {
   "display_name": "Python 3",
   "language": "python",
   "name": "python3"
  },
  "language_info": {
   "codemirror_mode": {
    "name": "ipython",
    "version": 3
   },
   "file_extension": ".py",
   "mimetype": "text/x-python",
   "name": "python",
   "nbconvert_exporter": "python",
   "pygments_lexer": "ipython3",
   "version": "3.7.3"
  }
 },
 "nbformat": 4,
 "nbformat_minor": 2
}
