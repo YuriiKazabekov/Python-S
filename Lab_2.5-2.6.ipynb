{
 "cells": [
  {
   "cell_type": "markdown",
   "metadata": {},
   "source": [
    "#Lab_2.5"
   ]
  },
  {
   "cell_type": "code",
   "execution_count": 19,
   "metadata": {},
   "outputs": [
    {
     "name": "stdout",
     "output_type": "stream",
     "text": [
      "Domain for Ukraine is UA\n",
      "Domain for United States is US\n",
      "Domain for Germany is DE\n",
      "Domain for Georgia is GE\n",
      "Domain for Spain is ES\n",
      "Domain for Moldova is MD\n",
      "The capital of Ukraine is Kyiv\n",
      "The capital of United States is Washington\n",
      "The capital of Germany is Berlin\n",
      "The capital of Georgia is Tbilisi\n",
      "The capital of Spain is Madrid\n",
      "The capital of Moldova is Kishinev\n",
      "Domain for Ukraine is UA\n",
      "The capital of Ukraine is Kyiv\n",
      "Domain for United States is US\n",
      "The capital of United States is Washington\n",
      "Domain for Germany is DE\n",
      "The capital of Germany is Berlin\n",
      "Domain for Georgia is GE\n",
      "The capital of Georgia is Tbilisi\n",
      "Domain for Spain is ES\n",
      "The capital of Spain is Madrid\n",
      "Domain for Moldova is MD\n",
      "The capital of Moldova is Kishinev\n",
      "{'Ukraine': ['UA', 'COM', 'GOV'], 'United States': ['US', 'COM', 'GOV'], 'Germany': ['DE', 'COM', 'GOV'], 'Georgia': ['GE', 'COM', 'GOV'], 'Spain': ['ES', 'COM', 'GOV'], 'Moldova': ['MD', 'COM', 'GOV']}\n"
     ]
    }
   ],
   "source": [
    "#Create dict with 5 items, where keys will be country name and value - domain name, i.e. {Ukraine:UA}\n",
    "domains = {'Ukraine': 'UA', 'United States': 'US', 'Germany': 'DE', 'Georgia': 'GE', 'Spain':'ES'}\n",
    "#Create another dict with 5 items, where values of countries will be keys, and values will be the capitals i.e. {'UA': 'Kiev'}\n",
    "capitals = {'UA':'Kyiv','US':'Washington','DE':'Berlin','GE':'Tbilisi','ES':'Madrid'}\n",
    "#Add one more element to each dict above\n",
    "domains['Moldova'] = 'MD'\n",
    "capitals['MD'] ='Kishinev'\n",
    "#Print sentence \"Domain for COUNTRY is DOMAIN.\" for each record in countries with the replace from dicts\n",
    "for country,domain in domains.items():\n",
    "    print('Domain for {} is {}'.format(country,domain))\n",
    "#Print sentence \"The capital of COUNTRY is CAPITAL\" for each record in capitals with the replace from dicts\n",
    "for country,domain in domains.items():\n",
    "    print('The capital of',country,'is',capitals[domain])\n",
    "#Merge sentences above together with one cycle\n",
    "for country,domain in domains.items():\n",
    "    print('Domain for',country,'is',domain)\n",
    "    print('The capital of',country,'is',capitals[domain])\n",
    "#Add to each value of first dict another two domains: COM and GOV\n",
    "for key in domains:\n",
    "    domains[key] = [domains[key],\"COM\",\"GOV\"]\n",
    "print(domains)"
   ]
  },
  {
   "cell_type": "markdown",
   "metadata": {},
   "source": [
    "#Lab_2.6"
   ]
  },
  {
   "cell_type": "code",
   "execution_count": 41,
   "metadata": {},
   "outputs": [
    {
     "name": "stdout",
     "output_type": "stream",
     "text": [
      "{1, 2, 3, 4, 5, 66, 6, 'l', 'h', 13, 'g', 'd'}\n",
      "(3, 4, 5, 'h', 13, 'g', 'd')\n",
      "(1, 2, 66, 6, 'l')\n",
      "(3, 4, 5)\n",
      "[0, 3, 4, 5, 7, 9, 13]\n",
      "('d', 'g', 13, 'h', 5, 4, 3)\n",
      "('l', 6, 66, 2, 1)\n",
      "[3, 4, 5, 'h', 13, 'g', 'd']\n",
      "[1, 2, 66, 6, 'l']\n"
     ]
    }
   ],
   "source": [
    "#Generate two sets with not unique numbers and few symbols\n",
    "set1 = {1, 2, 3, 4, 5, 66, 6, 13, 3, 5, 'd', 'g', 'h', 'l'}\n",
    "set2 = {13, 3, 4, 'd', 'g', 5, 7, 's', 9, 'h', 0 }\n",
    "#Print 1st set\n",
    "print(set1)\n",
    "#Create tuple from intersection of first and second set\n",
    "a = tuple(set1.intersection(set2))\n",
    "print(a)\n",
    "#Create tuple from difference first and second set\n",
    "b = tuple(set1.difference(set2))\n",
    "print(b)\n",
    "#Slice first 3 symbols from first tuple\n",
    "print(a[0:3])\n",
    "#Print only symbols with numbers from second set\n",
    "numbers=[]\n",
    "for i in set2:\n",
    "    if type(i)==int:\n",
    "        numbers.append(i)   \n",
    "print(numbers)\n",
    "#Reverse tuple using slice\n",
    "print(a[::-1])\n",
    "print(b[::-1])\n",
    "#Convert both tuples into list\n",
    "list1 = list(a)\n",
    "list2 = list(b)\n",
    "print(list1)\n",
    "print(list2)"
   ]
  }
 ],
 "metadata": {
  "kernelspec": {
   "display_name": "Python 3",
   "language": "python",
   "name": "python3"
  },
  "language_info": {
   "codemirror_mode": {
    "name": "ipython",
    "version": 3
   },
   "file_extension": ".py",
   "mimetype": "text/x-python",
   "name": "python",
   "nbconvert_exporter": "python",
   "pygments_lexer": "ipython3",
   "version": "3.7.3"
  }
 },
 "nbformat": 4,
 "nbformat_minor": 2
}
