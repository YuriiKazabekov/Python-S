{
 "cells": [
  {
   "cell_type": "code",
   "execution_count": 1,
   "metadata": {},
   "outputs": [
    {
     "name": "stdout",
     "output_type": "stream",
     "text": [
      "r r Abrak Abrakadab Arkdba baaar arbadakarbA abdkrA 11\n"
     ]
    }
   ],
   "source": [
    "s = 'Abrakadabra'\n",
    "\n",
    "print (s[2:3], s[-2:-1], s[0:5], s[0:-2], s[::2],  s[1::2], s[::-1], s[::-2], len(s))\n"
   ]
  },
  {
   "cell_type": "code",
   "execution_count": 16,
   "metadata": {},
   "outputs": [
    {
     "name": "stdout",
     "output_type": "stream",
     "text": [
      "xyz abc\n"
     ]
    }
   ],
   "source": [
    "a, b = 'abc xyz'.split()\n",
    "a, b = b, a\n",
    "print( a + \" \" + b)"
   ]
  },
  {
   "cell_type": "code",
   "execution_count": 19,
   "metadata": {},
   "outputs": [
    {
     "name": "stdout",
     "output_type": "stream",
     "text": [
      "Введіть стрічку з f або без неї\n",
      "find f in this string with f\n",
      "0 27\n"
     ]
    }
   ],
   "source": [
    "print ('Введіть стрічку з f або без неї')\n",
    "s = str(input())\n",
    "k = 0\n",
    "for i in s:\n",
    "    if i == 'f':\n",
    "        k = k + 1\n",
    "if k == 1:\n",
    "     print(s.find('f'))\n",
    "else: print(s.find('f'), s.rfind('f'))"
   ]
  },
  {
   "cell_type": "code",
   "execution_count": 18,
   "metadata": {},
   "outputs": [
    {
     "name": "stdout",
     "output_type": "stream",
     "text": [
      "0124578124578\n"
     ]
    }
   ],
   "source": [
    "s = '0123456789123456789'\n",
    "k = '0'\n",
    "for i in s:\n",
    "    if s.index(i) % 3 != 0:\n",
    "        k = k + i\n",
    "print(k)"
   ]
  }
 ],
 "metadata": {
  "kernelspec": {
   "display_name": "Python 3",
   "language": "python",
   "name": "python3"
  },
  "language_info": {
   "codemirror_mode": {
    "name": "ipython",
    "version": 3
   },
   "file_extension": ".py",
   "mimetype": "text/x-python",
   "name": "python",
   "nbconvert_exporter": "python",
   "pygments_lexer": "ipython3",
   "version": "3.7.3"
  }
 },
 "nbformat": 4,
 "nbformat_minor": 2
}
