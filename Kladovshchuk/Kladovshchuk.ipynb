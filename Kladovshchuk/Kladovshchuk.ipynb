{
 "cells": [
  {
   "cell_type": "code",
   "execution_count": 4,
   "metadata": {},
   "outputs": [],
   "source": [
    "def new_product():\n",
    "    with open('file1.txt', 'r+') as lp:\n",
    "        data = lp.readlines()\n",
    "    ident = []\n",
    "    name = []\n",
    "    new_dict ={}\n",
    "    new_name = input('Введіть назву товару \\n')\n",
    "    for i in data:\n",
    "        a, b= i.split()\n",
    "        #add id and name in 2 lists\n",
    "        ident.append(a)\n",
    "        name.append(b)\n",
    "    \n",
    "    \n",
    "        \n",
    "    for i in name:\n",
    "        if i == new_name:\n",
    "            print(\"Даний товар вже є в базі даних, його ID \"+ident[name.index(new_name)])\n",
    "            break\n",
    "        else: \n",
    "                  \n",
    "            new_ident = str(int(''.join(ident[-1:]))+1)\n",
    "            new_item = str((new_ident+\" \"+new_name+\"\\n\"))\n",
    "            with open(\"file1.txt\", \"a\") as myfile:\n",
    "                myfile.write(new_item)\n",
    "            print(\"Для товару \" + new_name + \" створено запис в базі даних з ID \" + new_ident)\n",
    "            break\n"
   ]
  },
  {
   "cell_type": "code",
   "execution_count": 1,
   "metadata": {},
   "outputs": [
    {
     "name": "stdout",
     "output_type": "stream",
     "text": [
      "1 - створити новий товар\n",
      "    2 - отримати товар\n",
      "    3 - відвантажити товар\n",
      "    4 - залишок на складі\n",
      "    5 - вихід з програми\n",
      "5\n"
     ]
    }
   ],
   "source": [
    "def menu():\n",
    "    s= '''1 - створити новий товар\n",
    "    2 - отримати товар\n",
    "    3 - відвантажити товар\n",
    "    4 - залишок на складі\n",
    "    5 - вихід з програми'''\n",
    "    print(s)\n",
    "    option = input()\n",
    "    return option\n",
    "            \n",
    "def new_product():\n",
    "    pass\n",
    "def generator_id_tranzact():\n",
    "    pass\n",
    "\n",
    "    \n",
    "while True:\n",
    "    marker = menu()\n",
    "    if marker == '5':\n",
    "        break"
   ]
  },
  {
   "cell_type": "code",
   "execution_count": null,
   "metadata": {
    "scrolled": true
   },
   "outputs": [],
   "source": [
    "new_product()"
   ]
  },
  {
   "cell_type": "code",
   "execution_count": null,
   "metadata": {},
   "outputs": [],
   "source": [
    "menu()"
   ]
  },
  {
   "cell_type": "code",
   "execution_count": null,
   "metadata": {},
   "outputs": [],
   "source": []
  }
 ],
 "metadata": {
  "kernelspec": {
   "display_name": "Python 3",
   "language": "python",
   "name": "python3"
  },
  "language_info": {
   "codemirror_mode": {
    "name": "ipython",
    "version": 3
   },
   "file_extension": ".py",
   "mimetype": "text/x-python",
   "name": "python",
   "nbconvert_exporter": "python",
   "pygments_lexer": "ipython3",
   "version": "3.7.3"
  }
 },
 "nbformat": 4,
 "nbformat_minor": 2
}
