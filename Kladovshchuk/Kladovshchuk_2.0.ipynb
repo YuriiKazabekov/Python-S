{
 "cells": [
  {
   "cell_type": "code",
   "execution_count": null,
   "metadata": {},
   "outputs": [
    {
     "name": "stdout",
     "output_type": "stream",
     "text": [
      "1 - створити новий товар\n",
      "    2 - отримати товар\n",
      "    3 - відвантажити товар\n",
      "    4 - залишок на складі\n",
      "    5 - вихід з програми\n",
      "3\n",
      "1 - створити новий товар\n",
      "    2 - отримати товар\n",
      "    3 - відвантажити товар\n",
      "    4 - залишок на складі\n",
      "    5 - вихід з програми\n"
     ]
    }
   ],
   "source": [
    "def menu():\n",
    "    s= '''1 - створити новий товар\n",
    "    2 - отримати товар\n",
    "    3 - відвантажити товар\n",
    "    4 - залишок на складі\n",
    "    5 - вихід з програми'''\n",
    "    print(s)\n",
    "    option = input()\n",
    "    return option\n",
    "            \n",
    "def checker():\n",
    "    pass\n",
    "def creator():\n",
    "    pass\n",
    "def operator():\n",
    "    pass\n",
    "def counter():\n",
    "    pass    \n",
    "\n",
    "\n",
    "while True:\n",
    "    marker = menu()\n",
    "    if marker == '5':\n",
    "        break"
   ]
  },
  {
   "cell_type": "code",
   "execution_count": 36,
   "metadata": {},
   "outputs": [],
   "source": [
    "def checker():\n",
    "    with open('file1.txt', 'r+') as lp:\n",
    "        data = lp.readlines()\n",
    "    ident = []\n",
    "    name = []\n",
    "    new_name = input('Введіть назву товару \\n')\n",
    "    for i in data:\n",
    "        a, b= i.split()\n",
    "        #add id and name in 2 lists\n",
    "        ident.append(a)\n",
    "        name.append(b)  \n",
    "        k=0\n",
    "    while k < len(name):\n",
    "        k=k+1\n",
    "        if name[k-1] == new_name:\n",
    "            return ident[k-1], name[k-1]\n",
    "            break\n",
    "        else:      \n",
    "            print(fuck)"
   ]
  },
  {
   "cell_type": "code",
   "execution_count": 37,
   "metadata": {},
   "outputs": [
    {
     "name": "stdout",
     "output_type": "stream",
     "text": [
      "Введіть назву товару \n",
      "SGD\n"
     ]
    },
    {
     "ename": "NameError",
     "evalue": "name 'fuck' is not defined",
     "output_type": "error",
     "traceback": [
      "\u001b[1;31m---------------------------------------------------------------------------\u001b[0m",
      "\u001b[1;31mNameError\u001b[0m                                 Traceback (most recent call last)",
      "\u001b[1;32m<ipython-input-37-e2e8650c87fa>\u001b[0m in \u001b[0;36m<module>\u001b[1;34m\u001b[0m\n\u001b[1;32m----> 1\u001b[1;33m \u001b[0mchecker\u001b[0m\u001b[1;33m(\u001b[0m\u001b[1;33m)\u001b[0m\u001b[1;33m\u001b[0m\u001b[1;33m\u001b[0m\u001b[0m\n\u001b[0m",
      "\u001b[1;32m<ipython-input-36-dd69bc3ba4e8>\u001b[0m in \u001b[0;36mchecker\u001b[1;34m()\u001b[0m\n\u001b[0;32m     17\u001b[0m             \u001b[1;32mbreak\u001b[0m\u001b[1;33m\u001b[0m\u001b[1;33m\u001b[0m\u001b[0m\n\u001b[0;32m     18\u001b[0m         \u001b[1;32melse\u001b[0m\u001b[1;33m:\u001b[0m\u001b[1;33m\u001b[0m\u001b[1;33m\u001b[0m\u001b[0m\n\u001b[1;32m---> 19\u001b[1;33m             \u001b[0mprint\u001b[0m\u001b[1;33m(\u001b[0m\u001b[0mfuck\u001b[0m\u001b[1;33m)\u001b[0m\u001b[1;33m\u001b[0m\u001b[1;33m\u001b[0m\u001b[0m\n\u001b[0m",
      "\u001b[1;31mNameError\u001b[0m: name 'fuck' is not defined"
     ]
    }
   ],
   "source": [
    "checker()"
   ]
  },
  {
   "cell_type": "code",
   "execution_count": null,
   "metadata": {},
   "outputs": [],
   "source": []
  }
 ],
 "metadata": {
  "kernelspec": {
   "display_name": "Python 3",
   "language": "python",
   "name": "python3"
  },
  "language_info": {
   "codemirror_mode": {
    "name": "ipython",
    "version": 3
   },
   "file_extension": ".py",
   "mimetype": "text/x-python",
   "name": "python",
   "nbconvert_exporter": "python",
   "pygments_lexer": "ipython3",
   "version": "3.7.3"
  }
 },
 "nbformat": 4,
 "nbformat_minor": 2
}
