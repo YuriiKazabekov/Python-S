{
 "cells": [
  {
   "cell_type": "code",
   "execution_count": 33,
   "metadata": {},
   "outputs": [
    {
     "name": "stdout",
     "output_type": "stream",
     "text": [
      "352\n",
      "[11, 7, 21, 22, 27, 8, 12, 28, 24, 25, 16, 6, 10, 19, 11, 23, 17, 9, 2, 27, 20, 3, 27, 30, 24, 11, 19, 12, 10, 2, 9, 15, 8, 12, 19, 3, 30, 9, 24, 17, 20, 0, 26, 11, 29, 24, 15, 4, 1, 10, 11, 25, 7, 15, 24, 13, 8, 4, 22, 26, 18, 20, 1, 7, 0, 13, 9, 24, 21, 25, 21, 16, 6, 20, 9, 4, 4, 14, 0, 24, 21, 14, 2, 13, 28, 14, 15, 21, 26, 4, 12, 0, 10, 3, 21, 7, 5, 5, 24, 19, 26, 19, 16, 1, 27, 21, 25, 13, 24, 13, 24, 11, 28, 29, 24, 25, 3, 15, 20, 14, 10, 27, 24, 5, 12, 0, 22, 14, 19, 18, 13, 12, 15, 14, 10, 17, 24, 2, 28, 21, 14, 7, 19, 12, 1, 10, 27, 29, 3, 5, 12, 1, 2, 21, 29, 0, 21, 19, 10, 19, 15, 11, 18, 27, 24, 16, 16, 28, 14, 3, 13, 7, 27, 19, 28, 25, 25, 12, 15, 26, 2, 29, 21, 27, 28, 12, 10, 30, 1, 1, 12, 11, 26, 29, 20, 25, 2, 2, 25, 13, 1, 15, 19, 28, 1, 1, 29, 17, 2, 12, 15, 21, 16, 19, 0, 3, 24, 2, 28, 4, 17, 5, 9, 18, 3, 2, 22, 25, 12, 7, 16, 11, 29, 17, 3, 6, 23, 23, 16, 6, 27, 22, 20, 0, 2, 28, 19, 21, 24, 21, 23, 5, 27, 9, 13, 3, 1, 3, 14, 12, 8, 16, 0, 9, 6, 16, 30, 16, 19, 8, 14, 17, 26, 19, 15, 12, 25, 9, 17, 28, 5, 30, 19, 18, 29, 3, 1, 17, 13, 8, 17, 19, 6, 1, 7, 6, 4, 7, 3, 10, 17, 14, 19, 4, 14, 14, 3, 28, 6, 26, 19, 12, 16, 12, 1, 6, 30, 25, 25, 22, 13, 22, 29, 21, 20, 28, 27, 29, 10, 17, 3, 29, 16, 13, 30, 10, 23, 30, 28, 0, 17, 5, 30, 24, 4, 13, 10, 10, 27, 30, 16, 15]\n",
      "352\n",
      "15\n",
      "61776\n",
      "175.5\n"
     ]
    }
   ],
   "source": [
    "import random\n",
    "generated_list = []\n",
    "k = random.randint(300, 500)\n",
    "print(k)\n",
    "for i in range(0, k):\n",
    "    generated_list.append(random.randint(0, 30))\n",
    "print(generated_list)\n",
    "\n",
    "n = len(generated_list)\n",
    "s = sorted(generated_list)\n",
    "print(n)\n",
    "print(s[int(n/2)])\n",
    "summa = 0\n",
    "for j in range(0, k):\n",
    "    summa = summa + j\n",
    "print(summa)\n",
    "seredne = summa / n\n",
    "print(seredne)\n",
    "\n",
    "\n",
    "\n"
   ]
  },
  {
   "cell_type": "code",
   "execution_count": 2,
   "metadata": {},
   "outputs": [
    {
     "name": "stdout",
     "output_type": "stream",
     "text": [
      "Введіть логін\n",
      "abd\n",
      "Введіть логін\n",
      "abc\n",
      "Логін вірний\n",
      "Введіть пароль\n",
      "124\n",
      "Пароль не вірний\n",
      "Введіть пароль\n",
      "124\n",
      "Пароль не вірний\n",
      "Введіть пароль\n",
      "124\n",
      "Пароль не вірний\n",
      "Ви не авторизовані\n"
     ]
    }
   ],
   "source": [
    "log = 'abc'\n",
    "passwd = '123'\n",
    "\n",
    "while True:\n",
    "    print('Введіть логін')\n",
    "    log1 = input()\n",
    "    if log == log1:\n",
    "        print('Логін вірний')\n",
    "        break\n",
    "k = 0\n",
    "while k < 3:\n",
    "    print('Введіть пароль')\n",
    "    passwd1 = input()\n",
    "    if passwd1 == passwd:\n",
    "        print('Ви авторизувалися')\n",
    "        break\n",
    "    print('Пароль не вірний')\n",
    "    k = k + 1\n",
    "else: print('Ви не авторизовані')"
   ]
  }
 ],
 "metadata": {
  "kernelspec": {
   "display_name": "Python 3",
   "language": "python",
   "name": "python3"
  },
  "language_info": {
   "codemirror_mode": {
    "name": "ipython",
    "version": 3
   },
   "file_extension": ".py",
   "mimetype": "text/x-python",
   "name": "python",
   "nbconvert_exporter": "python",
   "pygments_lexer": "ipython3",
   "version": "3.7.3"
  }
 },
 "nbformat": 4,
 "nbformat_minor": 2
}
