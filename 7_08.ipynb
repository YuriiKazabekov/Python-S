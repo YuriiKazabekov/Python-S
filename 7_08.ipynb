{
 "cells": [
  {
   "cell_type": "code",
   "execution_count": 1,
   "metadata": {},
   "outputs": [],
   "source": [
    "\n",
    "a = iter(range(5))"
   ]
  },
  {
   "cell_type": "code",
   "execution_count": 3,
   "metadata": {},
   "outputs": [
    {
     "data": {
      "text/plain": [
       "range_iterator"
      ]
     },
     "execution_count": 3,
     "metadata": {},
     "output_type": "execute_result"
    }
   ],
   "source": [
    "type(a)"
   ]
  },
  {
   "cell_type": "code",
   "execution_count": 5,
   "metadata": {},
   "outputs": [
    {
     "data": {
      "text/plain": [
       "1"
      ]
     },
     "execution_count": 5,
     "metadata": {},
     "output_type": "execute_result"
    }
   ],
   "source": [
    "next(a)\n"
   ]
  },
  {
   "cell_type": "code",
   "execution_count": 8,
   "metadata": {},
   "outputs": [
    {
     "name": "stdout",
     "output_type": "stream",
     "text": [
      "AD\n",
      "\n",
      "AF\n",
      "\n",
      "\n",
      "\n",
      "AF\n",
      "\n",
      "AF\n",
      "\n",
      "AF\n",
      "\n",
      "A\n",
      "\n",
      "F\n",
      "\n",
      "A\n",
      "\n",
      "F\n",
      "\n",
      "A\n",
      "\n",
      "CAC\n"
     ]
    }
   ],
   "source": [
    "for line in open('text.txt'):\n",
    "    print(line)"
   ]
  },
  {
   "cell_type": "code",
   "execution_count": 10,
   "metadata": {},
   "outputs": [
    {
     "name": "stdout",
     "output_type": "stream",
     "text": [
      "[0, 1, 2, 3, 4, 5]\n"
     ]
    }
   ],
   "source": [
    "a = []\n",
    "for i in range(6):\n",
    "    a.append(i)\n",
    "    \n",
    "print(a)"
   ]
  },
  {
   "cell_type": "code",
   "execution_count": 12,
   "metadata": {},
   "outputs": [
    {
     "name": "stdout",
     "output_type": "stream",
     "text": [
      "[0, 1, 2, 3, 4, 5]\n"
     ]
    }
   ],
   "source": [
    "b = [i for i in range(6)]\n",
    "print(b)"
   ]
  },
  {
   "cell_type": "code",
   "execution_count": 13,
   "metadata": {},
   "outputs": [
    {
     "name": "stdout",
     "output_type": "stream",
     "text": [
      "[1, 9, 25, 49, 81, 121, 169, 225, 289, 361, 441, 529, 625, 729, 841, 961, 1089, 1225, 1369, 1521, 1681, 1849, 2025, 2209, 2401]\n"
     ]
    }
   ],
   "source": [
    "c = [i*i for i in range(50) if i%2!=0 ]\n",
    "# Цикл в одну строку\n",
    "print(c)"
   ]
  },
  {
   "cell_type": "code",
   "execution_count": 16,
   "metadata": {},
   "outputs": [
    {
     "name": "stdout",
     "output_type": "stream",
     "text": [
      "[1, 4, 3, 6]\n"
     ]
    }
   ],
   "source": [
    "d = [i+j for i in range(5) if i%2!=0 for j in range(6) if j%3==0]\n",
    "print(d)"
   ]
  },
  {
   "cell_type": "code",
   "execution_count": 5,
   "metadata": {},
   "outputs": [],
   "source": [
    "a = [-10, -7, -5, -4]\n",
    "def abs1(mass):\n",
    "    for i in range(len(mass)):\n",
    "        mass[i] = abs(mass[i])\n",
    "    return mass\n",
    "        \n",
    "\n",
    "def abs2(mass):\n",
    "    new_mass = [abs(x) for x in mass]\n",
    "    return new_mass\n",
    "\n",
    "def abs3(mass):\n",
    "    new_mass1 = map(abs, mass)\n",
    "    return list(new_mass1)"
   ]
  },
  {
   "cell_type": "code",
   "execution_count": 22,
   "metadata": {},
   "outputs": [
    {
     "name": "stdout",
     "output_type": "stream",
     "text": [
      "[10, 7, 5, 4]\n",
      "[10, 7, 5, 4]\n",
      "<map object at 0x0000027A8318F4E0>\n"
     ]
    }
   ],
   "source": [
    "print(abs1(a))\n",
    "print(abs2(a))\n",
    "print(abs3(a))"
   ]
  },
  {
   "cell_type": "code",
   "execution_count": 4,
   "metadata": {},
   "outputs": [
    {
     "name": "stdout",
     "output_type": "stream",
     "text": [
      "[0, 1, 2, 3, 4, 5, 6, 7, 8, 9, 10, 11, 12, 13, 14, 15, 16, 17, 18, 19, 20, 21, 22, 23, 24, 25, 26, 27, 28, 29, 30, 31, 32, 33, 34, 35, 36, 37, 38, 39, 40, 41, 42, 43, 44, 45, 46, 47, 48, 49, 50, 51, 52, 53, 54, 55, 56, 57, 58, 59, 60, 61, 62, 63, 64, 65, 66, 67, 68, 69, 70, 71, 72, 73, 74, 75, 76, 77, 78, 79, 80, 81, 82, 83, 84, 85, 86, 87, 88, 89, 90, 91, 92, 93, 94, 95, 96, 97, 98, 99]\n",
      "[0.0, 1.4142135623730951, 2.0, 2.449489742783178, 2.8284271247461903, 3.1622776601683795, 3.4641016151377544, 3.7416573867739413, 4.0, 4.242640687119285, 4.47213595499958, 4.69041575982343, 4.898979485566356, 5.0990195135927845, 5.291502622129181, 5.477225575051661, 5.656854249492381, 5.830951894845301, 6.0, 6.164414002968976, 6.324555320336759, 6.48074069840786, 6.6332495807108, 6.782329983125268, 6.928203230275509, 7.0710678118654755, 7.211102550927978, 7.3484692283495345, 7.483314773547883, 7.615773105863909, 7.745966692414834, 7.874007874011811, 8.0, 8.12403840463596, 8.246211251235321, 8.366600265340756, 8.48528137423857, 8.602325267042627, 8.717797887081348, 8.831760866327848, 8.94427190999916, 9.055385138137417, 9.16515138991168, 9.273618495495704, 9.38083151964686, 9.486832980505138, 9.591663046625438, 9.695359714832659, 9.797958971132712, 9.899494936611665]\n"
     ]
    }
   ],
   "source": [
    "from math import sqrt, exp\n",
    "a = [i for i in range (100)]\n",
    "print(a)\n",
    "\n",
    "def sq1(mass):\n",
    "    new_mass = []\n",
    "    for i in range(len(mass)):\n",
    "        if mass[i]%2==0:\n",
    "            new_mass.append(sqrt(mass[i]))\n",
    "    return new_mass\n",
    "print(sq1(a))    "
   ]
  },
  {
   "cell_type": "code",
   "execution_count": 4,
   "metadata": {},
   "outputs": [
    {
     "name": "stdout",
     "output_type": "stream",
     "text": [
      "start here\n",
      "start here\n",
      "start here\n",
      "start here\n",
      "start here\n",
      "start here\n",
      "start here\n",
      "start here\n",
      "start here\n",
      "start here\n",
      "[0, 1, 2, 3, 4, 5, 6, 7, 8, 9]\n"
     ]
    }
   ],
   "source": [
    "def ranger(n):\n",
    "    i = 0\n",
    "    while i < n:\n",
    "        yield i\n",
    "        print('start here')\n",
    "        i = i + 1\n",
    "        \n",
    "    \n",
    "a = ranger(10)    \n",
    "print(list(a))"
   ]
  },
  {
   "cell_type": "code",
   "execution_count": null,
   "metadata": {},
   "outputs": [],
   "source": [
    "next(a)\n",
    "next(a)\n",
    "next(a)"
   ]
  },
  {
   "cell_type": "code",
   "execution_count": 34,
   "metadata": {},
   "outputs": [
    {
     "name": "stderr",
     "output_type": "stream",
     "text": [
      "ERROR:root:Internal Python error in the inspect module.\n",
      "Below is the traceback from this internal error.\n",
      "\n"
     ]
    },
    {
     "name": "stdout",
     "output_type": "stream",
     "text": [
      "0\n",
      "start here\n",
      "1\n",
      "start here\n",
      "1\n",
      "start here\n",
      "1\n",
      "start here\n",
      "1\n",
      "start here\n",
      "1\n",
      "start here\n",
      "1\n",
      "start here\n",
      "1\n",
      "start here\n",
      "1\n",
      "start here\n",
      "1\n",
      "start here\n",
      "1\n",
      "start here\n",
      "1\n",
      "start here\n",
      "1\n",
      "start here\n",
      "1\n",
      "start here\n",
      "1\n",
      "start here\n",
      "1\n",
      "start here\n",
      "1\n",
      "start here\n",
      "1\n",
      "start here\n",
      "1\n",
      "start here\n",
      "1\n",
      "start here\n",
      "1\n",
      "start here\n",
      "1\n",
      "start here\n",
      "1\n",
      "start here\n",
      "1\n",
      "start here\n",
      "1\n",
      "start here\n",
      "1\n",
      "start here\n",
      "1\n",
      "start here\n",
      "1\n",
      "start here\n",
      "1\n",
      "start here\n",
      "1\n",
      "start here\n",
      "1\n",
      "start here\n",
      "1\n",
      "start here\n",
      "1\n",
      "start here\n",
      "1\n",
      "start here\n",
      "1\n",
      "start here\n",
      "1\n",
      "start here\n",
      "1\n",
      "start here\n",
      "1\n",
      "start here\n",
      "1\n",
      "start here\n",
      "1\n",
      "start here\n",
      "1\n",
      "start here\n",
      "1\n",
      "start here\n",
      "1\n",
      "start here\n",
      "1\n",
      "start here\n",
      "1\n",
      "start here\n",
      "1\n",
      "start here\n",
      "1\n",
      "start here\n",
      "1\n",
      "start here\n",
      "1\n",
      "start here\n",
      "1\n",
      "start here\n",
      "1\n",
      "start here\n",
      "1\n",
      "start here\n",
      "1\n",
      "start here\n",
      "1\n",
      "start here\n",
      "1\n",
      "start here\n",
      "1\n",
      "start here\n",
      "1\n",
      "start here\n",
      "1\n",
      "start here\n",
      "1\n",
      "start here\n",
      "1\n",
      "start here\n",
      "1\n",
      "start here\n",
      "1\n",
      "start here\n",
      "1\n",
      "start here\n",
      "1\n",
      "start here\n",
      "1\n",
      "start here\n",
      "1\n",
      "start here\n",
      "1\n",
      "start here\n",
      "1\n",
      "start here\n",
      "1\n",
      "start here\n",
      "1\n",
      "start here\n",
      "1\n",
      "start here\n",
      "1\n",
      "start here\n",
      "1\n",
      "start here\n",
      "1\n",
      "start here\n",
      "1\n",
      "start here\n",
      "1\n",
      "start here\n",
      "1\n",
      "start here\n",
      "1\n",
      "start here\n",
      "1\n",
      "start here\n",
      "1\n",
      "start here\n",
      "1\n",
      "start here\n",
      "1\n",
      "start here\n",
      "1\n",
      "start here\n",
      "1\n",
      "start here\n",
      "1\n",
      "start here\n",
      "1\n",
      "start here\n",
      "1\n",
      "start here\n",
      "1\n",
      "start here\n",
      "1\n",
      "start here\n",
      "1\n",
      "start here\n",
      "1\n",
      "start here\n",
      "1\n",
      "start here\n",
      "1\n",
      "start here\n",
      "1\n",
      "start here\n",
      "1\n",
      "start here\n",
      "1\n",
      "start here\n",
      "1\n",
      "start here\n",
      "1\n",
      "start here\n",
      "1\n",
      "start here\n",
      "1\n",
      "start here\n",
      "1\n",
      "start here\n",
      "1\n",
      "start here\n",
      "1\n",
      "start here\n",
      "1\n",
      "start here\n",
      "1\n",
      "start here\n",
      "1\n",
      "start here\n",
      "1\n",
      "start here\n",
      "1\n",
      "start here\n",
      "1\n",
      "start here\n",
      "1\n",
      "start here\n",
      "1\n",
      "start here\n",
      "1\n",
      "start here\n",
      "1\n",
      "start here\n",
      "1\n",
      "start here\n",
      "1\n",
      "start here\n",
      "1\n",
      "start here\n",
      "1\n",
      "start here\n",
      "1\n",
      "start here\n",
      "1\n",
      "start here\n",
      "1\n",
      "start here\n",
      "1\n",
      "start here\n",
      "1\n",
      "start here\n",
      "1\n",
      "start here\n",
      "1\n",
      "start here\n",
      "1\n",
      "start here\n",
      "1\n",
      "start here\n",
      "1\n",
      "start here\n",
      "1\n",
      "start here\n",
      "1\n",
      "start here\n",
      "1\n",
      "start here\n",
      "1\n",
      "start here\n",
      "1\n",
      "start here\n",
      "1\n",
      "start here\n",
      "1\n",
      "start here\n",
      "1\n",
      "start here\n",
      "1\n",
      "start here\n",
      "1\n",
      "start here\n",
      "1\n",
      "start here\n",
      "1\n",
      "start here\n",
      "1\n",
      "start here\n",
      "1\n",
      "start here\n",
      "1\n",
      "start here\n",
      "1\n",
      "start here\n",
      "1\n",
      "start here\n",
      "1\n",
      "start here\n",
      "1\n",
      "start here\n",
      "1\n",
      "start here\n",
      "1\n",
      "start here\n",
      "1\n",
      "start here\n",
      "1\n",
      "start here\n",
      "1\n",
      "start here\n",
      "1\n",
      "start here\n",
      "1\n",
      "start here\n",
      "1\n",
      "start here\n",
      "1\n",
      "start here\n",
      "1\n",
      "start here\n",
      "1\n",
      "start here\n",
      "1\n",
      "start here\n",
      "1\n",
      "start here\n",
      "1\n",
      "start here\n",
      "1\n",
      "start here\n",
      "1\n",
      "start here\n",
      "1\n",
      "start here\n",
      "1\n",
      "start here\n",
      "1\n",
      "start here\n",
      "1Traceback (most recent call last):\n",
      "  File \"C:\\Users\\YURII\\Anaconda3\\lib\\site-packages\\IPython\\core\\interactiveshell.py\", line 3296, in run_code\n",
      "    exec(code_obj, self.user_global_ns, self.user_ns)\n",
      "  File \"<ipython-input-34-0c494204efbf>\", line 2, in <module>\n",
      "    print(i)\n",
      "  File \"C:\\Users\\YURII\\Anaconda3\\lib\\site-packages\\ipykernel\\iostream.py\", line 400, in write\n",
      "    self.pub_thread.schedule(lambda : self._buffer.write(string))\n",
      "  File \"C:\\Users\\YURII\\Anaconda3\\lib\\site-packages\\ipykernel\\iostream.py\", line 203, in schedule\n",
      "    self._event_pipe.send(b'')\n",
      "  File \"C:\\Users\\YURII\\Anaconda3\\lib\\site-packages\\zmq\\sugar\\socket.py\", line 395, in send\n",
      "    return super(Socket, self).send(data, flags=flags, copy=copy, track=track)\n",
      "  File \"zmq/backend/cython/socket.pyx\", line 725, in zmq.backend.cython.socket.Socket.send\n",
      "  File \"zmq/backend/cython/socket.pyx\", line 772, in zmq.backend.cython.socket.Socket.send\n",
      "  File \"zmq/backend/cython/socket.pyx\", line 242, in zmq.backend.cython.socket._send_copy\n",
      "  File \"zmq/backend/cython/checkrc.pxd\", line 12, in zmq.backend.cython.checkrc._check_rc\n",
      "KeyboardInterrupt\n",
      "\n",
      "During handling of the above exception, another exception occurred:\n",
      "\n",
      "Traceback (most recent call last):\n",
      "  File \"C:\\Users\\YURII\\Anaconda3\\lib\\site-packages\\IPython\\core\\interactiveshell.py\", line 2033, in showtraceback\n",
      "    stb = value._render_traceback_()\n",
      "AttributeError: 'KeyboardInterrupt' object has no attribute '_render_traceback_'\n",
      "\n",
      "During handling of the above exception, another exception occurred:\n",
      "\n",
      "Traceback (most recent call last):\n",
      "  File \"C:\\Users\\YURII\\Anaconda3\\lib\\genericpath.py\", line 19, in exists\n",
      "    os.stat(path)\n",
      "FileNotFoundError: [WinError 3] Системе не удается найти указанный путь: 'zmq/backend/cython/socket.pyx'\n",
      "\n",
      "During handling of the above exception, another exception occurred:\n",
      "\n",
      "Traceback (most recent call last):\n",
      "  File \"C:\\Users\\YURII\\Anaconda3\\lib\\site-packages\\IPython\\core\\ultratb.py\", line 1095, in get_records\n",
      "    return _fixed_getinnerframes(etb, number_of_lines_of_context, tb_offset)\n",
      "  File \"C:\\Users\\YURII\\Anaconda3\\lib\\site-packages\\IPython\\core\\ultratb.py\", line 313, in wrapped\n",
      "    return f(*args, **kwargs)\n",
      "  File \"C:\\Users\\YURII\\Anaconda3\\lib\\site-packages\\IPython\\core\\ultratb.py\", line 347, in _fixed_getinnerframes\n",
      "    records = fix_frame_records_filenames(inspect.getinnerframes(etb, context))\n",
      "  File \"C:\\Users\\YURII\\Anaconda3\\lib\\inspect.py\", line 1502, in getinnerframes\n",
      "    frameinfo = (tb.tb_frame,) + getframeinfo(tb, context)\n",
      "  File \"C:\\Users\\YURII\\Anaconda3\\lib\\inspect.py\", line 1460, in getframeinfo\n",
      "    filename = getsourcefile(frame) or getfile(frame)\n",
      "  File \"C:\\Users\\YURII\\Anaconda3\\lib\\inspect.py\", line 693, in getsourcefile\n",
      "    if os.path.exists(filename):\n",
      "  File \"C:\\Users\\YURII\\Anaconda3\\lib\\genericpath.py\", line 19, in exists\n",
      "    os.stat(path)\n",
      "KeyboardInterrupt\n"
     ]
    },
    {
     "ename": "KeyboardInterrupt",
     "evalue": "",
     "output_type": "error",
     "traceback": [
      "\u001b[1;31m---------------------------------------------------------------------------\u001b[0m"
     ]
    }
   ],
   "source": [
    "for i in ranger(10):\n",
    "    print(i)"
   ]
  },
  {
   "cell_type": "code",
   "execution_count": 1,
   "metadata": {},
   "outputs": [],
   "source": [
    "def fibonacher(n):\n",
    "    a=b=1\n",
    "    while a < n:   \n",
    "        yield a\n",
    "        a,b = b, a+b "
   ]
  },
  {
   "cell_type": "code",
   "execution_count": null,
   "metadata": {},
   "outputs": [],
   "source": []
  },
  {
   "cell_type": "code",
   "execution_count": 2,
   "metadata": {},
   "outputs": [],
   "source": [
    "fib = fibonacher(22)"
   ]
  },
  {
   "cell_type": "code",
   "execution_count": 36,
   "metadata": {},
   "outputs": [
    {
     "data": {
      "text/plain": [
       "13"
      ]
     },
     "execution_count": 36,
     "metadata": {},
     "output_type": "execute_result"
    }
   ],
   "source": [
    "next(fib)"
   ]
  },
  {
   "cell_type": "code",
   "execution_count": 8,
   "metadata": {},
   "outputs": [
    {
     "name": "stdout",
     "output_type": "stream",
     "text": [
      "0.9316351413726807\n",
      "0.5699381828308105\n"
     ]
    }
   ],
   "source": [
    "import time\n",
    "def lister1(n):\n",
    "    start = time.time()\n",
    "    l = []\n",
    "    for i in range(n):\n",
    "        l.append(i)\n",
    "    return time.time() - start\n",
    "        \n",
    "def lister2(n):\n",
    "    start = time.time()\n",
    "    l = [x for x in range (n)]\n",
    "    return time.time() - start\n",
    "\n",
    "\n",
    "print(lister1(9999999))\n",
    "print(lister2(9999999))"
   ]
  },
  {
   "cell_type": "code",
   "execution_count": 9,
   "metadata": {},
   "outputs": [],
   "source": [
    "def func():\n",
    "    def func1():\n",
    "        return 'Hello'\n",
    "    print('start')\n",
    "    return func1()"
   ]
  },
  {
   "cell_type": "code",
   "execution_count": 13,
   "metadata": {},
   "outputs": [],
   "source": [
    "import time\n",
    "\n",
    "def generator_spusky(n):\n",
    "    l = [x for x in range(n)]\n",
    "\n",
    "def timer(funck):\n",
    "    def helper(n):\n",
    "        start = time.time()\n",
    "        funck(n)\n",
    "        print(time.time() - start)\n",
    "    return helper"
   ]
  },
  {
   "cell_type": "code",
   "execution_count": 25,
   "metadata": {},
   "outputs": [
    {
     "name": "stdout",
     "output_type": "stream",
     "text": [
      "0.004979372024536133\n"
     ]
    }
   ],
   "source": [
    "timer(generator_spusky)(100000)"
   ]
  }
 ],
 "metadata": {
  "kernelspec": {
   "display_name": "Python 3",
   "language": "python",
   "name": "python3"
  },
  "language_info": {
   "codemirror_mode": {
    "name": "ipython",
    "version": 3
   },
   "file_extension": ".py",
   "mimetype": "text/x-python",
   "name": "python",
   "nbconvert_exporter": "python",
   "pygments_lexer": "ipython3",
   "version": "3.7.3"
  }
 },
 "nbformat": 4,
 "nbformat_minor": 2
}
