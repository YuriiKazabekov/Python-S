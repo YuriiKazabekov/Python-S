{
 "cells": [
  {
   "cell_type": "markdown",
   "metadata": {},
   "source": [
    "# Lesson 5 - practice"
   ]
  },
  {
   "cell_type": "markdown",
   "metadata": {},
   "source": [
    "#### Для розминки"
   ]
  },
  {
   "cell_type": "markdown",
   "metadata": {},
   "source": [
    "* Зчитати з клавіатури два натуральних числа a, b. Знайти на яку кількість цифр перше число відрізняється від другого та вивести на екран різницю\n",
    "* Зчитати з клавіатури 4 числа. Записати їх у список. Вивести мінімум, максимум та суму із списку\n",
    "* Обчислити (`х` зчитуємо з клавіатури)\n",
    "\n",
    "\\begin{align}\n",
    "\\frac{-\\pi+\\sqrt{|\\sin{2x}|+2^\\pi}}{\\cos{x}}\n",
    "\\end{align}\n",
    "\n",
    "* Зчитати з клавіатури імя; перетворити всі літери стрічки у великі. Вивести таке речення: \"Привіт, `(Введене імя)`\"\n",
    "* Створити список із 10 рандомно згенерованими числами. Перших 5 членів відсортувати у зростанні, решту у спаданні. Вивести кінцевий список"
   ]
  },
  {
   "cell_type": "code",
   "execution_count": 14,
   "metadata": {},
   "outputs": [
    {
     "name": "stdout",
     "output_type": "stream",
     "text": [
      "Введіть число a\n",
      "<class 'str'>123\n",
      "Введіть число b\n",
      "<class 'str'>12345\n",
      "2.0\n"
     ]
    }
   ],
   "source": [
    "import math\n",
    "print('Введіть число a')\n",
    "a = input(str)\n",
    "print('Введіть число b')\n",
    "b = input(str)\n",
    "print(math.fabs(len(a)-len(b)))\n"
   ]
  },
  {
   "cell_type": "code",
   "execution_count": 19,
   "metadata": {},
   "outputs": [
    {
     "name": "stdout",
     "output_type": "stream",
     "text": [
      "Введіть число a\n",
      "3\n",
      "Введіть число b\n",
      "4\n",
      "Введіть число c\n",
      "6\n",
      "Введіть число d\n",
      "2\n",
      "2\n",
      "6\n",
      "15\n"
     ]
    }
   ],
   "source": [
    "new_list = []\n",
    "print('Введіть число a')\n",
    "a = int(input())\n",
    "new_list.append(a)\n",
    "print('Введіть число b')\n",
    "b = int(input())\n",
    "new_list.append(b)\n",
    "print('Введіть число c')\n",
    "c = int(input())\n",
    "new_list.append(c)\n",
    "print('Введіть число d')\n",
    "d = int(input())\n",
    "new_list.append(d)\n",
    "print(min(new_list))\n",
    "print(max(new_list))\n",
    "print(sum(new_list))"
   ]
  },
  {
   "cell_type": "code",
   "execution_count": 25,
   "metadata": {},
   "outputs": [
    {
     "name": "stdout",
     "output_type": "stream",
     "text": [
      "Введіть число x\n",
      "1\n",
      "-0.04000102309572437\n"
     ]
    }
   ],
   "source": [
    "import math\n",
    "a = 0\n",
    "print('Введіть число x')\n",
    "x = int(input())\n",
    "a = ((math.pi * -1) + math.sqrt(math.fabs(math.sin(2*x))+2**math.pi))/math.cos(x)\n",
    "print(a)\n"
   ]
  },
  {
   "cell_type": "code",
   "execution_count": 34,
   "metadata": {},
   "outputs": [
    {
     "name": "stdout",
     "output_type": "stream",
     "text": [
      "Введіть імя\n",
      "Jon\n",
      "Привіт JON !\n"
     ]
    }
   ],
   "source": [
    "import string\n",
    "print('Введіть імя')\n",
    "s = str(input())\n",
    "print(f'Привіт {s.upper()} !')"
   ]
  },
  {
   "cell_type": "code",
   "execution_count": 46,
   "metadata": {},
   "outputs": [
    {
     "name": "stdout",
     "output_type": "stream",
     "text": [
      "[83, 86, 68, 7, 84, 81, 70, 71, 67, 85]\n",
      "[83, 86, 68, 7, 84, 81, 70, 71, 67, 85]\n"
     ]
    }
   ],
   "source": [
    "import random\n",
    "new_list = random.sample(range(100), 10)\n",
    "print(new_list)\n",
    "list1 = new_list[0:5]\n",
    "list2 = new_list[5:]\n",
    "sorted(list1)\n",
    "sorted(list2, reverse = True)\n",
    "print(list1 + list2)"
   ]
  },
  {
   "cell_type": "code",
   "execution_count": 37,
   "metadata": {},
   "outputs": [
    {
     "name": "stdout",
     "output_type": "stream",
     "text": [
      "0\n",
      "1\n",
      "2\n",
      "3\n",
      "4\n",
      "5\n",
      "6\n",
      "7\n",
      "8\n",
      "9\n"
     ]
    }
   ],
   "source": [
    "for i in range(len(new_list)):\n",
    "    print(new_list[i])"
   ]
  },
  {
   "cell_type": "markdown",
   "metadata": {},
   "source": [
    "#### Задача 1"
   ]
  },
  {
   "cell_type": "markdown",
   "metadata": {},
   "source": [
    "Дано натуральное число n.\n",
    "* Является ли это число палиндромом (перевертышем); например, числа 2222, 6116, 0440 и т. д.?\n",
    "* Верно ли, что это число содержит ровно три одинаковые цифры, как, например, числа 6676, 4544, 0006 и т. д.?\n",
    "* верно ли, что все цифры числа различны?\n"
   ]
  },
  {
   "cell_type": "markdown",
   "metadata": {},
   "source": [
    "#### Задача 2"
   ]
  },
  {
   "cell_type": "markdown",
   "metadata": {},
   "source": [
    "Даны натуральное n, m. Получить сумму m последних цифр числа n."
   ]
  },
  {
   "cell_type": "code",
   "execution_count": 53,
   "metadata": {},
   "outputs": [
    {
     "name": "stdout",
     "output_type": "stream",
     "text": [
      "Введіть число n\n",
      "1234\n",
      "Введіть число m\n",
      "2\n",
      "7\n"
     ]
    }
   ],
   "source": [
    "print('Введіть число n')\n",
    "n = input()\n",
    "print('Введіть число m')\n",
    "m = int(input())\n",
    "last = n[-m:]\n",
    "\n",
    "summa = 0\n",
    "for i in last:\n",
    "    summa = summa+int(i)\n",
    "print(summa)"
   ]
  },
  {
   "cell_type": "markdown",
   "metadata": {},
   "source": [
    "#### Задача 3"
   ]
  },
  {
   "cell_type": "markdown",
   "metadata": {},
   "source": [
    "Дано натуральное число n.\n",
    "* Выяснить, входить ли цифра 3 в запись числа n^2 .\n",
    "* Поменять порядок цифр числа n на обратный.\n",
    "* Переставить первую и последнюю цифры числа n.\n",
    "* Приписать по единице в начало и в конец записи числа n.\n"
   ]
  },
  {
   "cell_type": "code",
   "execution_count": 5,
   "metadata": {},
   "outputs": [
    {
     "name": "stdout",
     "output_type": "stream",
     "text": [
      "Введіть число n\n",
      "12345\n",
      "12341\n"
     ]
    }
   ],
   "source": [
    "print('Введіть число n')\n",
    "n = input()\n",
    "'''kvadrat = int(n)**2\n",
    "\n",
    "if '3' in str(kvadrat):\n",
    "    print('true')\n",
    "else:\n",
    "    print('false')\n",
    "\n",
    "print(n [::-1])\n",
    "\n",
    "new_str=''\n",
    "new_str= n[-1] + n[1:-1] + n[0]\n",
    "print(new_str)'''\n",
    "\n",
    "\n",
    "new_str=''\n",
    "new_str= '1' + n[1:-1] + '1'\n",
    "print(new_str)"
   ]
  },
  {
   "cell_type": "markdown",
   "metadata": {},
   "source": [
    "#### Задача 4"
   ]
  },
  {
   "cell_type": "markdown",
   "metadata": {},
   "source": [
    "Дано нечетное число n. Создайте двумерный массив из n×n элементов, заполнив его символами \".\" (каждый элемент массива является строкой из одного символа). Затем заполните символами \"*\" среднюю строку массива, средний столбец массива, главную диагональ и побочную диагональ. В результате единицы в массиве должны образовывать изображение звездочки. Выведите полученный массив на экран, разделяя элементы массива пробелами. https://pythontutor.ru/lessons/2d_arrays/problems/snowflake/"
   ]
  },
  {
   "cell_type": "code",
   "execution_count": null,
   "metadata": {},
   "outputs": [],
   "source": []
  },
  {
   "cell_type": "markdown",
   "metadata": {},
   "source": [
    "#### Задача 5"
   ]
  },
  {
   "cell_type": "markdown",
   "metadata": {},
   "source": [
    "Створити матрицю, розміром m x n, заповнити її рандомними числами. Знайти max та min  та вивести їх індекс в матриці. "
   ]
  },
  {
   "cell_type": "code",
   "execution_count": null,
   "metadata": {},
   "outputs": [],
   "source": []
  },
  {
   "cell_type": "markdown",
   "metadata": {},
   "source": [
    "#### Задача 6"
   ]
  },
  {
   "cell_type": "markdown",
   "metadata": {},
   "source": [
    "Слово називається анаграмою іншого слова, якщо воно може бути отримано перестановкою його літер. Два слова задані в окремих рядках. Слова складаються з маленьких латинських літер і цифр.Вивести \"YES\", якщо задані слова є анаграмами один одного, та \"NO\" в інакшому випадку"
   ]
  },
  {
   "cell_type": "code",
   "execution_count": 7,
   "metadata": {},
   "outputs": [
    {
     "name": "stdout",
     "output_type": "stream",
     "text": [
      "123432\n",
      "fuck\n"
     ]
    }
   ],
   "source": [
    "new_str = input()\n",
    "if new_str == new_str[::-1]:\n",
    "    print('ok')\n",
    "else:\n",
    "    print('fuck')"
   ]
  },
  {
   "cell_type": "markdown",
   "metadata": {},
   "source": [
    "#### Задача 6.1"
   ]
  },
  {
   "cell_type": "markdown",
   "metadata": {},
   "source": [
    "До голосних літер в латинському алфавіті відносяться літери A, E, I, O, U і Y. Інші літери вважаються приголосними. Напишіть програму, яка підраховує кількість голосних літер в тексті"
   ]
  },
  {
   "cell_type": "code",
   "execution_count": null,
   "metadata": {},
   "outputs": [],
   "source": [
    "new_list = input()\n",
    "new_list = new_list.upper()\n",
    "Vowels = ['A','E','I','O','U','Y']\n",
    "k=0\n",
    "for i in Vowels:\n",
    "    for j in new_list:\n",
    "        if i == j:\n",
    "            k=k+1\n",
    "print(k)\n",
    "    "
   ]
  },
  {
   "cell_type": "markdown",
   "metadata": {},
   "source": [
    "#### Задача 7"
   ]
  },
  {
   "cell_type": "markdown",
   "metadata": {},
   "source": [
    "Дана строка, состоящая из слов, разделенных пробелами. Определите, сколько в ней слов. "
   ]
  },
  {
   "cell_type": "code",
   "execution_count": 15,
   "metadata": {},
   "outputs": [
    {
     "name": "stdout",
     "output_type": "stream",
     "text": [
      "11 22 22 22\n"
     ]
    },
    {
     "data": {
      "text/plain": [
       "0"
      ]
     },
     "execution_count": 15,
     "metadata": {},
     "output_type": "execute_result"
    }
   ],
   "source": [
    "a = input().split()\n",
    "k=0\n",
    "for i in a:\n",
    "    if i == \" \":\n",
    "        k = k +1\n",
    "k"
   ]
  },
  {
   "cell_type": "markdown",
   "metadata": {},
   "source": [
    "#### Задача 8"
   ]
  },
  {
   "cell_type": "markdown",
   "metadata": {},
   "source": [
    "Вивести послідовність Фібоначчі"
   ]
  },
  {
   "cell_type": "code",
   "execution_count": 19,
   "metadata": {},
   "outputs": [
    {
     "name": "stdout",
     "output_type": "stream",
     "text": [
      "10\n",
      "0\n",
      "1\n",
      "1\n",
      "2\n",
      "3\n",
      "5\n",
      "8\n",
      "13\n",
      "21\n",
      "34\n"
     ]
    }
   ],
   "source": [
    "n = int(input())\n",
    "a = 0\n",
    "b = 1\n",
    "for i in range(n):\n",
    "    print(a)\n",
    "    a, b = b, a + b\n"
   ]
  },
  {
   "cell_type": "markdown",
   "metadata": {},
   "source": [
    "#### Задача 9"
   ]
  },
  {
   "cell_type": "markdown",
   "metadata": {},
   "source": [
    "Дана стрічка. Видаліть з неї всі символи \"а\", а символи \"o\" замініть на \"0\""
   ]
  },
  {
   "cell_type": "code",
   "execution_count": null,
   "metadata": {},
   "outputs": [],
   "source": []
  },
  {
   "cell_type": "markdown",
   "metadata": {},
   "source": [
    "#### Задача 10"
   ]
  },
  {
   "cell_type": "markdown",
   "metadata": {},
   "source": [
    "По данному натуральному n ≤ 9 выведите лесенку из n ступенек, i-я ступенька состоит из чисел от 1 до i без пробелов. https://pythontutor.ru/lessons/for_loop/problems/ladder/"
   ]
  },
  {
   "cell_type": "code",
   "execution_count": 2,
   "metadata": {},
   "outputs": [
    {
     "name": "stdout",
     "output_type": "stream",
     "text": [
      "4\n",
      "*\n",
      "**\n",
      "***\n",
      "****\n"
     ]
    }
   ],
   "source": [
    "n = input()\n",
    "a = '*'\n",
    "for i in range(1, int(n)+1):\n",
    "    print(a*i)"
   ]
  },
  {
   "cell_type": "code",
   "execution_count": null,
   "metadata": {},
   "outputs": [],
   "source": []
  }
 ],
 "metadata": {
  "kernelspec": {
   "display_name": "Python 3",
   "language": "python",
   "name": "python3"
  },
  "language_info": {
   "codemirror_mode": {
    "name": "ipython",
    "version": 3
   },
   "file_extension": ".py",
   "mimetype": "text/x-python",
   "name": "python",
   "nbconvert_exporter": "python",
   "pygments_lexer": "ipython3",
   "version": "3.7.3"
  }
 },
 "nbformat": 4,
 "nbformat_minor": 2
}
