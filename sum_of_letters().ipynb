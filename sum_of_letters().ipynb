{
 "cells": [
  {
   "cell_type": "code",
   "execution_count": null,
   "metadata": {},
   "outputs": [],
   "source": [
    "def sum_of_letters(text, result):\n",
    "    low = 'a','b','c','d','e','f','g','h','i','j','k','l','m','n','o','p','q','r','s','t','u','v','w','x','y','z'\n",
    "    upper = 'A','B','C','D','E','F','G','H','I','J','K','L','M','N','O','P','Q','R','S','T','U','V','W','X','Y','Z'\n",
    "    local_result = {}\n",
    "    n=0\n",
    "    c=0\n",
    "    for i in text:\n",
    "        if i in low:\n",
    "            n= n+1\n",
    "        else:\n",
    "            pass\n",
    "    for i in text:\n",
    "        if i in upper:\n",
    "            c= c+1\n",
    "        else:\n",
    "            pass\n",
    "    k = n+c\n",
    "    local_result.update({'Всього букв': k, 'Нижній регістр': n, 'Верхній регістр': c})\n",
    "    return local_result"
   ]
  }
 ],
 "metadata": {
  "kernelspec": {
   "display_name": "Python 3",
   "language": "python",
   "name": "python3"
  },
  "language_info": {
   "codemirror_mode": {
    "name": "ipython",
    "version": 3
   },
   "file_extension": ".py",
   "mimetype": "text/x-python",
   "name": "python",
   "nbconvert_exporter": "python",
   "pygments_lexer": "ipython3",
   "version": "3.7.3"
  }
 },
 "nbformat": 4,
 "nbformat_minor": 2
}
